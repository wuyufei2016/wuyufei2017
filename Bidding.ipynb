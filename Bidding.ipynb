{
 "cells": [
  {
   "cell_type": "code",
   "execution_count": 3,
   "metadata": {
    "collapsed": true
   },
   "outputs": [],
   "source": [
    "import pandas as pd\n",
    "import numpy as np\n",
    "%matplotlib inline\n",
    "import matplotlib.pyplot as plt"
   ]
  },
  {
   "cell_type": "code",
   "execution_count": 4,
   "metadata": {
    "collapsed": false
   },
   "outputs": [],
   "source": [
    "#load train data and validation data\n",
    "val = pd.read_csv(\"validationprocess.csv\")\n",
    "train = pd.read_csv(\"dataprocess.csv\")\n",
    "test =pd.read_csv(\"testprocess.csv\")"
   ]
  },
  {
   "cell_type": "code",
   "execution_count": 69,
   "metadata": {
    "collapsed": false
   },
   "outputs": [
    {
     "data": {
      "text/plain": [
       "{0,\n",
       " 1,\n",
       " 2,\n",
       " 3,\n",
       " 4,\n",
       " 5,\n",
       " 6,\n",
       " 7,\n",
       " 8,\n",
       " 9,\n",
       " 10,\n",
       " 11,\n",
       " 12,\n",
       " 13,\n",
       " 14,\n",
       " 15,\n",
       " 16,\n",
       " 17,\n",
       " 18,\n",
       " 19,\n",
       " 20,\n",
       " 21,\n",
       " 22,\n",
       " 23}"
      ]
     },
     "execution_count": 69,
     "metadata": {},
     "output_type": "execute_result"
    }
   ],
   "source": [
    "set(train[\"hour\"])"
   ]
  },
  {
   "cell_type": "code",
   "execution_count": 59,
   "metadata": {
    "collapsed": false
   },
   "outputs": [],
   "source": [
    "def trainctr(object):\n",
    "    train_ctr=[]\n",
    "    new=train[train[\"advertiser\"]==object]\n",
    "    for i in range(7):\n",
    "        new_day=new[new[\"weekday\"]==i]\n",
    "                    \n",
    "        \n",
    "                    \n",
    "    \n",
    "        if len(new_day)==0:\n",
    "    \n",
    "            ctr=0\n",
    "        else:\n",
    "                    \n",
    "            a=len(new_day[new_day[\"click\"]==1])\n",
    "            ctr=a/len(new_day)\n",
    "        train_ctr.append(ctr)\n",
    "    return train_ctr"
   ]
  },
  {
   "cell_type": "code",
   "execution_count": 70,
   "metadata": {
    "collapsed": false
   },
   "outputs": [],
   "source": [
    "def trainhourctr(object):\n",
    "    train_ctr=[]\n",
    "    new=train[train[\"advertiser\"]==object]\n",
    "    for i in range(24):\n",
    "        new_hour=new[new[\"hour\"]==i]\n",
    "                    \n",
    "        \n",
    "                    \n",
    "    \n",
    "        if len(new_hour)==0:\n",
    "    \n",
    "            ctr=0\n",
    "        else:\n",
    "                    \n",
    "            a=len(new_hour[new_hour[\"click\"]==1])\n",
    "            ctr=a/len(new_hour)\n",
    "        train_ctr.append(ctr)\n",
    "    return train_ctr"
   ]
  },
  {
   "cell_type": "code",
   "execution_count": 72,
   "metadata": {
    "collapsed": false
   },
   "outputs": [
    {
     "data": {
      "text/plain": [
       "[0.0002909796314258002,\n",
       " 0.0001737619461337967,\n",
       " 0.00023573785950023574,\n",
       " 0.00043687199650502403,\n",
       " 0.0,\n",
       " 0.0,\n",
       " 0.0,\n",
       " 0.0008741258741258741,\n",
       " 0.0003425244048638465,\n",
       " 0.00021941854086670324,\n",
       " 0.0002800336040324839,\n",
       " 0.0002876042565429968,\n",
       " 0.00030211480362537764,\n",
       " 0.0002896032435563278,\n",
       " 0.0002740226525392766,\n",
       " 0.00018330125561360095,\n",
       " 0.0003735873727468012,\n",
       " 0.0006329781622534023,\n",
       " 0.0007215007215007215,\n",
       " 0.0,\n",
       " 0.0,\n",
       " 0,\n",
       " 0,\n",
       " 0]"
      ]
     },
     "execution_count": 72,
     "metadata": {},
     "output_type": "execute_result"
    }
   ],
   "source": [
    "trainhourctr(2259)"
   ]
  },
  {
   "cell_type": "code",
   "execution_count": 62,
   "metadata": {
    "collapsed": false
   },
   "outputs": [
    {
     "data": {
      "text/html": [
       "<div>\n",
       "<table border=\"1\" class=\"dataframe\">\n",
       "  <thead>\n",
       "    <tr style=\"text-align: right;\">\n",
       "      <th></th>\n",
       "      <th>1458</th>\n",
       "      <th>2259</th>\n",
       "      <th>2261</th>\n",
       "      <th>2821</th>\n",
       "      <th>2997</th>\n",
       "      <th>3358</th>\n",
       "      <th>3386</th>\n",
       "      <th>3427</th>\n",
       "      <th>3476</th>\n",
       "    </tr>\n",
       "  </thead>\n",
       "  <tbody>\n",
       "    <tr>\n",
       "      <th>0</th>\n",
       "      <td>0.000786</td>\n",
       "      <td>0.000279</td>\n",
       "      <td>0.000000</td>\n",
       "      <td>0.000650</td>\n",
       "      <td>0.000000</td>\n",
       "      <td>0.000632</td>\n",
       "      <td>0.000641</td>\n",
       "      <td>0.000814</td>\n",
       "      <td>0.000431</td>\n",
       "    </tr>\n",
       "    <tr>\n",
       "      <th>1</th>\n",
       "      <td>0.000873</td>\n",
       "      <td>0.000472</td>\n",
       "      <td>0.000000</td>\n",
       "      <td>0.000692</td>\n",
       "      <td>0.000000</td>\n",
       "      <td>0.000358</td>\n",
       "      <td>0.000700</td>\n",
       "      <td>0.000699</td>\n",
       "      <td>0.000640</td>\n",
       "    </tr>\n",
       "    <tr>\n",
       "      <th>2</th>\n",
       "      <td>0.000854</td>\n",
       "      <td>0.000000</td>\n",
       "      <td>0.000000</td>\n",
       "      <td>0.000303</td>\n",
       "      <td>0.009043</td>\n",
       "      <td>0.000534</td>\n",
       "      <td>0.000625</td>\n",
       "      <td>0.000803</td>\n",
       "      <td>0.000532</td>\n",
       "    </tr>\n",
       "    <tr>\n",
       "      <th>3</th>\n",
       "      <td>0.000889</td>\n",
       "      <td>0.000000</td>\n",
       "      <td>0.000332</td>\n",
       "      <td>0.000000</td>\n",
       "      <td>0.004263</td>\n",
       "      <td>0.000974</td>\n",
       "      <td>0.000723</td>\n",
       "      <td>0.000708</td>\n",
       "      <td>0.000556</td>\n",
       "    </tr>\n",
       "    <tr>\n",
       "      <th>4</th>\n",
       "      <td>0.000937</td>\n",
       "      <td>0.000000</td>\n",
       "      <td>0.000163</td>\n",
       "      <td>0.000000</td>\n",
       "      <td>0.003623</td>\n",
       "      <td>0.000942</td>\n",
       "      <td>0.000795</td>\n",
       "      <td>0.000663</td>\n",
       "      <td>0.000488</td>\n",
       "    </tr>\n",
       "    <tr>\n",
       "      <th>5</th>\n",
       "      <td>0.000828</td>\n",
       "      <td>0.000249</td>\n",
       "      <td>0.000456</td>\n",
       "      <td>0.000000</td>\n",
       "      <td>0.002736</td>\n",
       "      <td>0.000849</td>\n",
       "      <td>0.001001</td>\n",
       "      <td>0.000834</td>\n",
       "      <td>0.000248</td>\n",
       "    </tr>\n",
       "    <tr>\n",
       "      <th>6</th>\n",
       "      <td>0.000688</td>\n",
       "      <td>0.000266</td>\n",
       "      <td>0.000258</td>\n",
       "      <td>0.000000</td>\n",
       "      <td>0.000000</td>\n",
       "      <td>0.000571</td>\n",
       "      <td>0.000565</td>\n",
       "      <td>0.000724</td>\n",
       "      <td>0.000480</td>\n",
       "    </tr>\n",
       "  </tbody>\n",
       "</table>\n",
       "</div>"
      ],
      "text/plain": [
       "       1458      2259      2261      2821      2997      3358      3386  \\\n",
       "0  0.000786  0.000279  0.000000  0.000650  0.000000  0.000632  0.000641   \n",
       "1  0.000873  0.000472  0.000000  0.000692  0.000000  0.000358  0.000700   \n",
       "2  0.000854  0.000000  0.000000  0.000303  0.009043  0.000534  0.000625   \n",
       "3  0.000889  0.000000  0.000332  0.000000  0.004263  0.000974  0.000723   \n",
       "4  0.000937  0.000000  0.000163  0.000000  0.003623  0.000942  0.000795   \n",
       "5  0.000828  0.000249  0.000456  0.000000  0.002736  0.000849  0.001001   \n",
       "6  0.000688  0.000266  0.000258  0.000000  0.000000  0.000571  0.000565   \n",
       "\n",
       "       3427      3476  \n",
       "0  0.000814  0.000431  \n",
       "1  0.000699  0.000640  \n",
       "2  0.000803  0.000532  \n",
       "3  0.000708  0.000556  \n",
       "4  0.000663  0.000488  \n",
       "5  0.000834  0.000248  \n",
       "6  0.000724  0.000480  "
      ]
     },
     "execution_count": 62,
     "metadata": {},
     "output_type": "execute_result"
    }
   ],
   "source": [
    "adv=set(train[\"advertiser\"])\n",
    "ctr_datafram=pd.DataFrame(\n",
    "    {'1458':trainctr(1458),\n",
    "    '2259':trainctr(2259),\n",
    "    '2261':trainctr(2261),\n",
    "    '2821':trainctr(2821),\n",
    "    '2997':trainctr(2997),\n",
    "    '3358':trainctr(3358),\n",
    "    '3386':trainctr(3386),\n",
    "    '3427':trainctr(3427),\n",
    "    '3476':trainctr(3476),\n",
    "    })\n",
    "ctr_datafram"
   ]
  },
  {
   "cell_type": "code",
   "execution_count": 73,
   "metadata": {
    "collapsed": false
   },
   "outputs": [
    {
     "data": {
      "text/html": [
       "<div>\n",
       "<table border=\"1\" class=\"dataframe\">\n",
       "  <thead>\n",
       "    <tr style=\"text-align: right;\">\n",
       "      <th></th>\n",
       "      <th>1458</th>\n",
       "      <th>2259</th>\n",
       "      <th>2261</th>\n",
       "      <th>2821</th>\n",
       "      <th>2997</th>\n",
       "      <th>3358</th>\n",
       "      <th>3386</th>\n",
       "      <th>3427</th>\n",
       "      <th>3476</th>\n",
       "    </tr>\n",
       "  </thead>\n",
       "  <tbody>\n",
       "    <tr>\n",
       "      <th>0</th>\n",
       "      <td>0.000902</td>\n",
       "      <td>0.000291</td>\n",
       "      <td>0.000182</td>\n",
       "      <td>0.000276</td>\n",
       "      <td>0.000000</td>\n",
       "      <td>0.000967</td>\n",
       "      <td>0.000867</td>\n",
       "      <td>0.000914</td>\n",
       "      <td>0.000531</td>\n",
       "    </tr>\n",
       "    <tr>\n",
       "      <th>1</th>\n",
       "      <td>0.000711</td>\n",
       "      <td>0.000174</td>\n",
       "      <td>0.000281</td>\n",
       "      <td>0.000241</td>\n",
       "      <td>0.000000</td>\n",
       "      <td>0.001055</td>\n",
       "      <td>0.000425</td>\n",
       "      <td>0.000693</td>\n",
       "      <td>0.000792</td>\n",
       "    </tr>\n",
       "    <tr>\n",
       "      <th>2</th>\n",
       "      <td>0.002055</td>\n",
       "      <td>0.000236</td>\n",
       "      <td>0.000410</td>\n",
       "      <td>0.001426</td>\n",
       "      <td>0.000000</td>\n",
       "      <td>0.000567</td>\n",
       "      <td>0.000644</td>\n",
       "      <td>0.000591</td>\n",
       "      <td>0.000563</td>\n",
       "    </tr>\n",
       "    <tr>\n",
       "      <th>3</th>\n",
       "      <td>0.000835</td>\n",
       "      <td>0.000437</td>\n",
       "      <td>0.000463</td>\n",
       "      <td>0.000328</td>\n",
       "      <td>0.000000</td>\n",
       "      <td>0.001382</td>\n",
       "      <td>0.000481</td>\n",
       "      <td>0.000771</td>\n",
       "      <td>0.000297</td>\n",
       "    </tr>\n",
       "    <tr>\n",
       "      <th>4</th>\n",
       "      <td>0.001676</td>\n",
       "      <td>0.000000</td>\n",
       "      <td>0.000000</td>\n",
       "      <td>0.000000</td>\n",
       "      <td>0.008547</td>\n",
       "      <td>0.000765</td>\n",
       "      <td>0.000000</td>\n",
       "      <td>0.000628</td>\n",
       "      <td>0.000000</td>\n",
       "    </tr>\n",
       "    <tr>\n",
       "      <th>5</th>\n",
       "      <td>0.000932</td>\n",
       "      <td>0.000000</td>\n",
       "      <td>0.000000</td>\n",
       "      <td>0.001626</td>\n",
       "      <td>0.000000</td>\n",
       "      <td>0.000000</td>\n",
       "      <td>0.000301</td>\n",
       "      <td>0.001041</td>\n",
       "      <td>0.000000</td>\n",
       "    </tr>\n",
       "    <tr>\n",
       "      <th>6</th>\n",
       "      <td>0.000389</td>\n",
       "      <td>0.000000</td>\n",
       "      <td>0.000000</td>\n",
       "      <td>0.000000</td>\n",
       "      <td>0.000000</td>\n",
       "      <td>0.001430</td>\n",
       "      <td>0.000745</td>\n",
       "      <td>0.000912</td>\n",
       "      <td>0.000896</td>\n",
       "    </tr>\n",
       "    <tr>\n",
       "      <th>7</th>\n",
       "      <td>0.000468</td>\n",
       "      <td>0.000874</td>\n",
       "      <td>0.000000</td>\n",
       "      <td>0.002385</td>\n",
       "      <td>0.009434</td>\n",
       "      <td>0.000353</td>\n",
       "      <td>0.000636</td>\n",
       "      <td>0.000869</td>\n",
       "      <td>0.000752</td>\n",
       "    </tr>\n",
       "    <tr>\n",
       "      <th>8</th>\n",
       "      <td>0.000574</td>\n",
       "      <td>0.000343</td>\n",
       "      <td>0.000000</td>\n",
       "      <td>0.000536</td>\n",
       "      <td>0.000000</td>\n",
       "      <td>0.000754</td>\n",
       "      <td>0.000905</td>\n",
       "      <td>0.000535</td>\n",
       "      <td>0.000235</td>\n",
       "    </tr>\n",
       "    <tr>\n",
       "      <th>9</th>\n",
       "      <td>0.000917</td>\n",
       "      <td>0.000219</td>\n",
       "      <td>0.000000</td>\n",
       "      <td>0.000674</td>\n",
       "      <td>0.010601</td>\n",
       "      <td>0.000213</td>\n",
       "      <td>0.000645</td>\n",
       "      <td>0.000526</td>\n",
       "      <td>0.000231</td>\n",
       "    </tr>\n",
       "    <tr>\n",
       "      <th>10</th>\n",
       "      <td>0.000731</td>\n",
       "      <td>0.000280</td>\n",
       "      <td>0.000475</td>\n",
       "      <td>0.000622</td>\n",
       "      <td>0.004796</td>\n",
       "      <td>0.000744</td>\n",
       "      <td>0.000353</td>\n",
       "      <td>0.000528</td>\n",
       "      <td>0.000532</td>\n",
       "    </tr>\n",
       "    <tr>\n",
       "      <th>11</th>\n",
       "      <td>0.000460</td>\n",
       "      <td>0.000288</td>\n",
       "      <td>0.000369</td>\n",
       "      <td>0.001218</td>\n",
       "      <td>0.000000</td>\n",
       "      <td>0.000172</td>\n",
       "      <td>0.000525</td>\n",
       "      <td>0.000918</td>\n",
       "      <td>0.000320</td>\n",
       "    </tr>\n",
       "    <tr>\n",
       "      <th>12</th>\n",
       "      <td>0.000723</td>\n",
       "      <td>0.000302</td>\n",
       "      <td>0.000262</td>\n",
       "      <td>0.000130</td>\n",
       "      <td>0.000000</td>\n",
       "      <td>0.000250</td>\n",
       "      <td>0.000482</td>\n",
       "      <td>0.000596</td>\n",
       "      <td>0.000735</td>\n",
       "    </tr>\n",
       "    <tr>\n",
       "      <th>13</th>\n",
       "      <td>0.000935</td>\n",
       "      <td>0.000290</td>\n",
       "      <td>0.000125</td>\n",
       "      <td>0.000925</td>\n",
       "      <td>0.003537</td>\n",
       "      <td>0.000611</td>\n",
       "      <td>0.000580</td>\n",
       "      <td>0.000808</td>\n",
       "      <td>0.000713</td>\n",
       "    </tr>\n",
       "    <tr>\n",
       "      <th>14</th>\n",
       "      <td>0.000852</td>\n",
       "      <td>0.000274</td>\n",
       "      <td>0.000315</td>\n",
       "      <td>0.001157</td>\n",
       "      <td>0.003461</td>\n",
       "      <td>0.000296</td>\n",
       "      <td>0.000607</td>\n",
       "      <td>0.000455</td>\n",
       "      <td>0.000419</td>\n",
       "    </tr>\n",
       "    <tr>\n",
       "      <th>15</th>\n",
       "      <td>0.000728</td>\n",
       "      <td>0.000183</td>\n",
       "      <td>0.000524</td>\n",
       "      <td>0.000368</td>\n",
       "      <td>0.004321</td>\n",
       "      <td>0.000631</td>\n",
       "      <td>0.000689</td>\n",
       "      <td>0.000756</td>\n",
       "      <td>0.000595</td>\n",
       "    </tr>\n",
       "    <tr>\n",
       "      <th>16</th>\n",
       "      <td>0.000703</td>\n",
       "      <td>0.000374</td>\n",
       "      <td>0.000332</td>\n",
       "      <td>0.000377</td>\n",
       "      <td>0.003783</td>\n",
       "      <td>0.000641</td>\n",
       "      <td>0.000678</td>\n",
       "      <td>0.000910</td>\n",
       "      <td>0.000588</td>\n",
       "    </tr>\n",
       "    <tr>\n",
       "      <th>17</th>\n",
       "      <td>0.000784</td>\n",
       "      <td>0.000633</td>\n",
       "      <td>0.000233</td>\n",
       "      <td>0.000256</td>\n",
       "      <td>0.006299</td>\n",
       "      <td>0.000581</td>\n",
       "      <td>0.000663</td>\n",
       "      <td>0.000785</td>\n",
       "      <td>0.000577</td>\n",
       "    </tr>\n",
       "    <tr>\n",
       "      <th>18</th>\n",
       "      <td>0.000825</td>\n",
       "      <td>0.000722</td>\n",
       "      <td>0.000606</td>\n",
       "      <td>0.000414</td>\n",
       "      <td>0.006600</td>\n",
       "      <td>0.000239</td>\n",
       "      <td>0.001019</td>\n",
       "      <td>0.000955</td>\n",
       "      <td>0.000457</td>\n",
       "    </tr>\n",
       "    <tr>\n",
       "      <th>19</th>\n",
       "      <td>0.001001</td>\n",
       "      <td>0.000000</td>\n",
       "      <td>0.000000</td>\n",
       "      <td>0.000709</td>\n",
       "      <td>0.005152</td>\n",
       "      <td>0.000487</td>\n",
       "      <td>0.000844</td>\n",
       "      <td>0.000571</td>\n",
       "      <td>0.000386</td>\n",
       "    </tr>\n",
       "    <tr>\n",
       "      <th>20</th>\n",
       "      <td>0.000911</td>\n",
       "      <td>0.000000</td>\n",
       "      <td>0.000000</td>\n",
       "      <td>0.000565</td>\n",
       "      <td>0.002981</td>\n",
       "      <td>0.000507</td>\n",
       "      <td>0.000873</td>\n",
       "      <td>0.000782</td>\n",
       "      <td>0.000278</td>\n",
       "    </tr>\n",
       "    <tr>\n",
       "      <th>21</th>\n",
       "      <td>0.001171</td>\n",
       "      <td>0.000000</td>\n",
       "      <td>0.000000</td>\n",
       "      <td>0.000730</td>\n",
       "      <td>0.005669</td>\n",
       "      <td>0.005797</td>\n",
       "      <td>0.000937</td>\n",
       "      <td>0.000754</td>\n",
       "      <td>0.000610</td>\n",
       "    </tr>\n",
       "    <tr>\n",
       "      <th>22</th>\n",
       "      <td>0.000793</td>\n",
       "      <td>0.000000</td>\n",
       "      <td>0.000000</td>\n",
       "      <td>0.000613</td>\n",
       "      <td>0.002247</td>\n",
       "      <td>0.001069</td>\n",
       "      <td>0.000778</td>\n",
       "      <td>0.000494</td>\n",
       "      <td>0.000638</td>\n",
       "    </tr>\n",
       "    <tr>\n",
       "      <th>23</th>\n",
       "      <td>0.000991</td>\n",
       "      <td>0.000000</td>\n",
       "      <td>0.000000</td>\n",
       "      <td>0.000638</td>\n",
       "      <td>0.003056</td>\n",
       "      <td>0.000707</td>\n",
       "      <td>0.000981</td>\n",
       "      <td>0.000813</td>\n",
       "      <td>0.000473</td>\n",
       "    </tr>\n",
       "  </tbody>\n",
       "</table>\n",
       "</div>"
      ],
      "text/plain": [
       "        1458      2259      2261      2821      2997      3358      3386  \\\n",
       "0   0.000902  0.000291  0.000182  0.000276  0.000000  0.000967  0.000867   \n",
       "1   0.000711  0.000174  0.000281  0.000241  0.000000  0.001055  0.000425   \n",
       "2   0.002055  0.000236  0.000410  0.001426  0.000000  0.000567  0.000644   \n",
       "3   0.000835  0.000437  0.000463  0.000328  0.000000  0.001382  0.000481   \n",
       "4   0.001676  0.000000  0.000000  0.000000  0.008547  0.000765  0.000000   \n",
       "5   0.000932  0.000000  0.000000  0.001626  0.000000  0.000000  0.000301   \n",
       "6   0.000389  0.000000  0.000000  0.000000  0.000000  0.001430  0.000745   \n",
       "7   0.000468  0.000874  0.000000  0.002385  0.009434  0.000353  0.000636   \n",
       "8   0.000574  0.000343  0.000000  0.000536  0.000000  0.000754  0.000905   \n",
       "9   0.000917  0.000219  0.000000  0.000674  0.010601  0.000213  0.000645   \n",
       "10  0.000731  0.000280  0.000475  0.000622  0.004796  0.000744  0.000353   \n",
       "11  0.000460  0.000288  0.000369  0.001218  0.000000  0.000172  0.000525   \n",
       "12  0.000723  0.000302  0.000262  0.000130  0.000000  0.000250  0.000482   \n",
       "13  0.000935  0.000290  0.000125  0.000925  0.003537  0.000611  0.000580   \n",
       "14  0.000852  0.000274  0.000315  0.001157  0.003461  0.000296  0.000607   \n",
       "15  0.000728  0.000183  0.000524  0.000368  0.004321  0.000631  0.000689   \n",
       "16  0.000703  0.000374  0.000332  0.000377  0.003783  0.000641  0.000678   \n",
       "17  0.000784  0.000633  0.000233  0.000256  0.006299  0.000581  0.000663   \n",
       "18  0.000825  0.000722  0.000606  0.000414  0.006600  0.000239  0.001019   \n",
       "19  0.001001  0.000000  0.000000  0.000709  0.005152  0.000487  0.000844   \n",
       "20  0.000911  0.000000  0.000000  0.000565  0.002981  0.000507  0.000873   \n",
       "21  0.001171  0.000000  0.000000  0.000730  0.005669  0.005797  0.000937   \n",
       "22  0.000793  0.000000  0.000000  0.000613  0.002247  0.001069  0.000778   \n",
       "23  0.000991  0.000000  0.000000  0.000638  0.003056  0.000707  0.000981   \n",
       "\n",
       "        3427      3476  \n",
       "0   0.000914  0.000531  \n",
       "1   0.000693  0.000792  \n",
       "2   0.000591  0.000563  \n",
       "3   0.000771  0.000297  \n",
       "4   0.000628  0.000000  \n",
       "5   0.001041  0.000000  \n",
       "6   0.000912  0.000896  \n",
       "7   0.000869  0.000752  \n",
       "8   0.000535  0.000235  \n",
       "9   0.000526  0.000231  \n",
       "10  0.000528  0.000532  \n",
       "11  0.000918  0.000320  \n",
       "12  0.000596  0.000735  \n",
       "13  0.000808  0.000713  \n",
       "14  0.000455  0.000419  \n",
       "15  0.000756  0.000595  \n",
       "16  0.000910  0.000588  \n",
       "17  0.000785  0.000577  \n",
       "18  0.000955  0.000457  \n",
       "19  0.000571  0.000386  \n",
       "20  0.000782  0.000278  \n",
       "21  0.000754  0.000610  \n",
       "22  0.000494  0.000638  \n",
       "23  0.000813  0.000473  "
      ]
     },
     "execution_count": 73,
     "metadata": {},
     "output_type": "execute_result"
    }
   ],
   "source": [
    "ctr_datafram=pd.DataFrame(\n",
    "    {'1458':trainhourctr(1458),\n",
    "    '2259':trainhourctr(2259),\n",
    "    '2261':trainhourctr(2261),\n",
    "    '2821':trainhourctr(2821),\n",
    "    '2997':trainhourctr(2997),\n",
    "    '3358':trainhourctr(3358),\n",
    "    '3386':trainhourctr(3386),\n",
    "    '3427':trainhourctr(3427),\n",
    "    '3476':trainhourctr(3476),\n",
    "    })\n",
    "ctr_datafram"
   ]
  },
  {
   "cell_type": "code",
   "execution_count": 63,
   "metadata": {
    "collapsed": false
   },
   "outputs": [],
   "source": [
    "new=val[val[\"advertiser\"]==1458]\n",
    "columnset=set(new[\"weekday\"])\n",
    "rawset=set(train[\"advertiser\"])"
   ]
  },
  {
   "cell_type": "code",
   "execution_count": 68,
   "metadata": {
    "collapsed": false
   },
   "outputs": [
    {
     "data": {
      "text/plain": [
       "<matplotlib.text.Text at 0x1decb6c50>"
      ]
     },
     "execution_count": 68,
     "metadata": {},
     "output_type": "execute_result"
    },
    {
     "data": {
      "image/png": "[encoded data removed]",
      "text/plain": [
       "<matplotlib.figure.Figure at 0x1dec6e828>"
      ]
     },
     "metadata": {},
     "output_type": "display_data"
    }
   ],
   "source": [
    "import matplotlib as plt\n",
    "import seaborn as sns\n",
    "pict=sns.heatmap(ctr_datafram)\n",
    "#plt.show()\n",
    "pict.set_xlabel(\"advertiser\")\n",
    "pict.set_ylabel(\"weekday\")"
   ]
  },
  {
   "cell_type": "code",
   "execution_count": 77,
   "metadata": {
    "collapsed": false
   },
   "outputs": [
    {
     "ename": "AttributeError",
     "evalue": "'AxesSubplot' object has no attribute 'set_size'",
     "output_type": "error",
     "traceback": [
      "\u001b[0;31m---------------------------------------------------------------------------\u001b[0m",
      "\u001b[0;31mAttributeError\u001b[0m                            Traceback (most recent call last)",
      "\u001b[0;32m<ipython-input-77-cdd823d2979e>\u001b[0m in \u001b[0;36m<module>\u001b[0;34m()\u001b[0m\n\u001b[1;32m      6\u001b[0m \u001b[0mpict\u001b[0m\u001b[0;34m.\u001b[0m\u001b[0mset_ylabel\u001b[0m\u001b[0;34m(\u001b[0m\u001b[0;34m\"hour\"\u001b[0m\u001b[0;34m)\u001b[0m\u001b[0;34m\u001b[0m\u001b[0m\n\u001b[1;32m      7\u001b[0m \u001b[0;31m#plt.figure(figsize=(20,20))\u001b[0m\u001b[0;34m\u001b[0m\u001b[0;34m\u001b[0m\u001b[0m\n\u001b[0;32m----> 8\u001b[0;31m \u001b[0mpict\u001b[0m\u001b[0;34m.\u001b[0m\u001b[0mset_size\u001b[0m\u001b[0;34m(\u001b[0m\u001b[0;36m20\u001b[0m\u001b[0;34m,\u001b[0m\u001b[0;36m20\u001b[0m\u001b[0;34m)\u001b[0m\u001b[0;34m\u001b[0m\u001b[0m\n\u001b[0m",
      "\u001b[0;31mAttributeError\u001b[0m: 'AxesSubplot' object has no attribute 'set_size'"
     ]
    },
    {
     "data": {
      "image/png": "[encoded data removed]",
      "text/plain": [
       "<matplotlib.figure.Figure at 0x1dc3281d0>"
      ]
     },
     "metadata": {},
     "output_type": "display_data"
    }
   ],
   "source": [
    "import matplotlib as plt\n",
    "import seaborn as sns\n",
    "pict=sns.heatmap(ctr_datafram)\n",
    "#plt.show()\n",
    "pict.set_xlabel(\"advertiser\")\n",
    "pict.set_ylabel(\"hour\")\n",
    "#plt.figure(figsize=(20,20))\n",
    "pict.set_size(20,20)"
   ]
  },
  {
   "cell_type": "code",
   "execution_count": null,
   "metadata": {
    "collapsed": false
   },
   "outputs": [],
   "source": [
    "#用做index的栏\n",
    "col = ['userid','useragent','IP','domain','url','slotid','slotwidth','slotheight','slotvisibility','slotformat','creative','keypage','usertag','adexchange']\n",
    "\n",
    "train_in = train[col]\n",
    "val_in = val[col]\n",
    "test_in = test[col]"
   ]
  },
  {
   "cell_type": "code",
   "execution_count": 4,
   "metadata": {
    "collapsed": false
   },
   "outputs": [
    {
     "data": {
      "text/plain": [
       "(2697738, 299749, 299749)"
      ]
     },
     "execution_count": 4,
     "metadata": {},
     "output_type": "execute_result"
    }
   ],
   "source": [
    "len(train_in),len(val_in),len(test_in)"
   ]
  },
  {
   "cell_type": "code",
   "execution_count": 5,
   "metadata": {
    "collapsed": false
   },
   "outputs": [],
   "source": [
    "combine = pd.concat([train_in,val_in,test_in])"
   ]
  },
  {
   "cell_type": "code",
   "execution_count": 6,
   "metadata": {
    "collapsed": false
   },
   "outputs": [
    {
     "data": {
      "text/plain": [
       "3297236"
      ]
     },
     "execution_count": 6,
     "metadata": {},
     "output_type": "execute_result"
    }
   ],
   "source": [
    "len(combine)"
   ]
  },
  {
   "cell_type": "code",
   "execution_count": 7,
   "metadata": {
    "collapsed": true
   },
   "outputs": [],
   "source": [
    "def index_pre(a_list):\n",
    "    userid_n = []\n",
    "    userid_d = {}\n",
    "    index = 1\n",
    "\n",
    "    for user in a_list:\n",
    "        if user in userid_d.keys():\n",
    "            userid_n.append(userid_d[user])\n",
    "        else:\n",
    "            userid_d[user] = index\n",
    "            userid_n.append(userid_d[user])\n",
    "            index += 1\n",
    "    return userid_n"
   ]
  },
  {
   "cell_type": "code",
   "execution_count": 8,
   "metadata": {
    "collapsed": false
   },
   "outputs": [],
   "source": [
    "userid_number = index_pre(combine['userid'])\n",
    "useragent_number = index_pre(combine['useragent'])\n",
    "ip_number = index_pre(combine['IP'])\n",
    "domain_number = index_pre(combine.domain)\n",
    "url_number = index_pre(combine.url)\n",
    "slotid_number = index_pre(combine.slotid)\n",
    "slotwidth_number = index_pre(combine.slotwidth)\n",
    "slotheight_number = index_pre(combine.slotheight)\n",
    "slotvisibility_number = index_pre(combine.slotvisibility)\n",
    "slotformat_number = index_pre(combine.slotformat)\n",
    "creative_number = index_pre(combine.creative)\n",
    "keypage_number = index_pre(combine.keypage)\n",
    "adexchange_number = index_pre(combine.adexchange)"
   ]
  },
  {
   "cell_type": "code",
   "execution_count": 9,
   "metadata": {
    "collapsed": true
   },
   "outputs": [],
   "source": [
    "combine_index =  pd.DataFrame(\n",
    "    {'userid':userid_number,\n",
    "    'useragent':useragent_number,\n",
    "    'IP':ip_number,\n",
    "    'domain':domain_number,\n",
    "    'url':url_number,\n",
    "    'slotid':slotid_number,\n",
    "    'slotwidth':slotwidth_number,\n",
    "    'slotheight':slotheight_number,\n",
    "    'slotvisibility':slotvisibility_number,\n",
    "    'slotformat':slotformat_number,\n",
    "    'creative':creative_number,\n",
    "    'keypage':keypage_number,\n",
    "    'adexchange':adexchange_number}\n",
    "    )"
   ]
  },
  {
   "cell_type": "code",
   "execution_count": 10,
   "metadata": {
    "collapsed": false
   },
   "outputs": [
    {
     "data": {
      "text/plain": [
       "3297236"
      ]
     },
     "execution_count": 10,
     "metadata": {},
     "output_type": "execute_result"
    }
   ],
   "source": [
    "len(combine_index)"
   ]
  },
  {
   "cell_type": "code",
   "execution_count": 11,
   "metadata": {
    "collapsed": false
   },
   "outputs": [],
   "source": [
    "tags= []\n",
    "for usertag in combine.usertag:\n",
    "    for tag in usertag.split(','):\n",
    "        if tag not in tags:\n",
    "            tags.append(tag)"
   ]
  },
  {
   "cell_type": "code",
   "execution_count": 12,
   "metadata": {
    "collapsed": true
   },
   "outputs": [],
   "source": [
    "L = []\n",
    "for t in tags:\n",
    "    s = 'L'+t\n",
    "    L.append(s)"
   ]
  },
  {
   "cell_type": "code",
   "execution_count": 14,
   "metadata": {
    "collapsed": false
   },
   "outputs": [
    {
     "data": {
      "text/plain": [
       "69"
      ]
     },
     "execution_count": 14,
     "metadata": {},
     "output_type": "execute_result"
    }
   ],
   "source": [
    "len(L)"
   ]
  },
  {
   "cell_type": "code",
   "execution_count": 13,
   "metadata": {
    "collapsed": true
   },
   "outputs": [],
   "source": [
    "for i,t in enumerate(tags):\n",
    "    L[i]= []\n",
    "    for string in combine.usertag:\n",
    "        if string.find(t) < 0:\n",
    "            L[i].append(0)\n",
    "        else:\n",
    "            L[i].append(1)"
   ]
  },
  {
   "cell_type": "code",
   "execution_count": 15,
   "metadata": {
    "collapsed": true
   },
   "outputs": [],
   "source": [
    "df_tags = pd.DataFrame()\n",
    "for i in range(0,69):\n",
    "    se = pd.Series(L[i])\n",
    "    df_tags['tag'+str(i)] = se.values"
   ]
  },
  {
   "cell_type": "code",
   "execution_count": 16,
   "metadata": {
    "collapsed": false
   },
   "outputs": [],
   "source": [
    "index_data = pd.concat([combine_index, df_tags], axis=1)"
   ]
  },
  {
   "cell_type": "markdown",
   "metadata": {},
   "source": [
    "# 做好的combine index 分出来"
   ]
  },
  {
   "cell_type": "code",
   "execution_count": 17,
   "metadata": {
    "collapsed": true
   },
   "outputs": [],
   "source": [
    "index_train = index_data[:2697738]\n",
    "index_val = index_data[2697738:2697738 +299749]\n",
    "index_test = index_data[2697738 +299749:]"
   ]
  },
  {
   "cell_type": "code",
   "execution_count": 18,
   "metadata": {
    "collapsed": false
   },
   "outputs": [
    {
     "data": {
      "text/plain": [
       "3297236"
      ]
     },
     "execution_count": 18,
     "metadata": {},
     "output_type": "execute_result"
    }
   ],
   "source": [
    "len(index_data)"
   ]
  },
  {
   "cell_type": "code",
   "execution_count": 19,
   "metadata": {
    "collapsed": false
   },
   "outputs": [
    {
     "data": {
      "text/plain": [
       "(2697738, 299749, 299749)"
      ]
     },
     "execution_count": 19,
     "metadata": {},
     "output_type": "execute_result"
    }
   ],
   "source": [
    "len(index_train),len(index_val),len(index_test)"
   ]
  },
  {
   "cell_type": "code",
   "execution_count": 20,
   "metadata": {
    "collapsed": false
   },
   "outputs": [
    {
     "name": "stderr",
     "output_type": "stream",
     "text": [
      "/Users/chenbo/anaconda/lib/python3.5/site-packages/ipykernel/__main__.py:1: SettingWithCopyWarning: \n",
      "A value is trying to be set on a copy of a slice from a DataFrame.\n",
      "Try using .loc[row_indexer,col_indexer] = value instead\n",
      "\n",
      "See the caveats in the documentation: http://pandas.pydata.org/pandas-docs/stable/indexing.html#indexing-view-versus-copy\n",
      "  if __name__ == '__main__':\n",
      "/Users/chenbo/anaconda/lib/python3.5/site-packages/ipykernel/__main__.py:2: SettingWithCopyWarning: \n",
      "A value is trying to be set on a copy of a slice from a DataFrame.\n",
      "Try using .loc[row_indexer,col_indexer] = value instead\n",
      "\n",
      "See the caveats in the documentation: http://pandas.pydata.org/pandas-docs/stable/indexing.html#indexing-view-versus-copy\n",
      "  from ipykernel import kernelapp as app\n",
      "/Users/chenbo/anaconda/lib/python3.5/site-packages/ipykernel/__main__.py:3: SettingWithCopyWarning: \n",
      "A value is trying to be set on a copy of a slice from a DataFrame.\n",
      "Try using .loc[row_indexer,col_indexer] = value instead\n",
      "\n",
      "See the caveats in the documentation: http://pandas.pydata.org/pandas-docs/stable/indexing.html#indexing-view-versus-copy\n",
      "  app.launch_new_instance()\n",
      "/Users/chenbo/anaconda/lib/python3.5/site-packages/ipykernel/__main__.py:4: SettingWithCopyWarning: \n",
      "A value is trying to be set on a copy of a slice from a DataFrame.\n",
      "Try using .loc[row_indexer,col_indexer] = value instead\n",
      "\n",
      "See the caveats in the documentation: http://pandas.pydata.org/pandas-docs/stable/indexing.html#indexing-view-versus-copy\n",
      "/Users/chenbo/anaconda/lib/python3.5/site-packages/ipykernel/__main__.py:5: SettingWithCopyWarning: \n",
      "A value is trying to be set on a copy of a slice from a DataFrame.\n",
      "Try using .loc[row_indexer,col_indexer] = value instead\n",
      "\n",
      "See the caveats in the documentation: http://pandas.pydata.org/pandas-docs/stable/indexing.html#indexing-view-versus-copy\n",
      "/Users/chenbo/anaconda/lib/python3.5/site-packages/ipykernel/__main__.py:7: SettingWithCopyWarning: \n",
      "A value is trying to be set on a copy of a slice from a DataFrame.\n",
      "Try using .loc[row_indexer,col_indexer] = value instead\n",
      "\n",
      "See the caveats in the documentation: http://pandas.pydata.org/pandas-docs/stable/indexing.html#indexing-view-versus-copy\n",
      "/Users/chenbo/anaconda/lib/python3.5/site-packages/ipykernel/__main__.py:8: SettingWithCopyWarning: \n",
      "A value is trying to be set on a copy of a slice from a DataFrame.\n",
      "Try using .loc[row_indexer,col_indexer] = value instead\n",
      "\n",
      "See the caveats in the documentation: http://pandas.pydata.org/pandas-docs/stable/indexing.html#indexing-view-versus-copy\n",
      "/Users/chenbo/anaconda/lib/python3.5/site-packages/ipykernel/__main__.py:9: SettingWithCopyWarning: \n",
      "A value is trying to be set on a copy of a slice from a DataFrame.\n",
      "Try using .loc[row_indexer,col_indexer] = value instead\n",
      "\n",
      "See the caveats in the documentation: http://pandas.pydata.org/pandas-docs/stable/indexing.html#indexing-view-versus-copy\n",
      "/Users/chenbo/anaconda/lib/python3.5/site-packages/ipykernel/__main__.py:10: SettingWithCopyWarning: \n",
      "A value is trying to be set on a copy of a slice from a DataFrame.\n",
      "Try using .loc[row_indexer,col_indexer] = value instead\n",
      "\n",
      "See the caveats in the documentation: http://pandas.pydata.org/pandas-docs/stable/indexing.html#indexing-view-versus-copy\n"
     ]
    }
   ],
   "source": [
    "index_train['click'] = pd.Series(train.click).values\n",
    "index_train['weekday'] = pd.Series(train.weekday).values\n",
    "index_train['hour'] = pd.Series(train.hour).values\n",
    "index_train['region'] = pd.Series(train.region).values\n",
    "index_train['city'] = pd.Series(train.city).values\n",
    "#index_train['adexchange'] = pd.Series(train.adexchange).values\n",
    "index_train['slotprice'] = pd.Series(train.slotprice).values\n",
    "index_train['bidprice'] = pd.Series(train.bidprice).values\n",
    "index_train['payprice'] = pd.Series(train.payprice).values\n",
    "index_train['advertiser'] = pd.Series(train.advertiser).values\n"
   ]
  },
  {
   "cell_type": "code",
   "execution_count": 21,
   "metadata": {
    "collapsed": false
   },
   "outputs": [
    {
     "name": "stderr",
     "output_type": "stream",
     "text": [
      "/Users/chenbo/anaconda/lib/python3.5/site-packages/ipykernel/__main__.py:1: SettingWithCopyWarning: \n",
      "A value is trying to be set on a copy of a slice from a DataFrame.\n",
      "Try using .loc[row_indexer,col_indexer] = value instead\n",
      "\n",
      "See the caveats in the documentation: http://pandas.pydata.org/pandas-docs/stable/indexing.html#indexing-view-versus-copy\n",
      "  if __name__ == '__main__':\n",
      "/Users/chenbo/anaconda/lib/python3.5/site-packages/ipykernel/__main__.py:2: SettingWithCopyWarning: \n",
      "A value is trying to be set on a copy of a slice from a DataFrame.\n",
      "Try using .loc[row_indexer,col_indexer] = value instead\n",
      "\n",
      "See the caveats in the documentation: http://pandas.pydata.org/pandas-docs/stable/indexing.html#indexing-view-versus-copy\n",
      "  from ipykernel import kernelapp as app\n",
      "/Users/chenbo/anaconda/lib/python3.5/site-packages/ipykernel/__main__.py:3: SettingWithCopyWarning: \n",
      "A value is trying to be set on a copy of a slice from a DataFrame.\n",
      "Try using .loc[row_indexer,col_indexer] = value instead\n",
      "\n",
      "See the caveats in the documentation: http://pandas.pydata.org/pandas-docs/stable/indexing.html#indexing-view-versus-copy\n",
      "  app.launch_new_instance()\n",
      "/Users/chenbo/anaconda/lib/python3.5/site-packages/ipykernel/__main__.py:4: SettingWithCopyWarning: \n",
      "A value is trying to be set on a copy of a slice from a DataFrame.\n",
      "Try using .loc[row_indexer,col_indexer] = value instead\n",
      "\n",
      "See the caveats in the documentation: http://pandas.pydata.org/pandas-docs/stable/indexing.html#indexing-view-versus-copy\n",
      "/Users/chenbo/anaconda/lib/python3.5/site-packages/ipykernel/__main__.py:5: SettingWithCopyWarning: \n",
      "A value is trying to be set on a copy of a slice from a DataFrame.\n",
      "Try using .loc[row_indexer,col_indexer] = value instead\n",
      "\n",
      "See the caveats in the documentation: http://pandas.pydata.org/pandas-docs/stable/indexing.html#indexing-view-versus-copy\n",
      "/Users/chenbo/anaconda/lib/python3.5/site-packages/ipykernel/__main__.py:7: SettingWithCopyWarning: \n",
      "A value is trying to be set on a copy of a slice from a DataFrame.\n",
      "Try using .loc[row_indexer,col_indexer] = value instead\n",
      "\n",
      "See the caveats in the documentation: http://pandas.pydata.org/pandas-docs/stable/indexing.html#indexing-view-versus-copy\n",
      "/Users/chenbo/anaconda/lib/python3.5/site-packages/ipykernel/__main__.py:8: SettingWithCopyWarning: \n",
      "A value is trying to be set on a copy of a slice from a DataFrame.\n",
      "Try using .loc[row_indexer,col_indexer] = value instead\n",
      "\n",
      "See the caveats in the documentation: http://pandas.pydata.org/pandas-docs/stable/indexing.html#indexing-view-versus-copy\n",
      "/Users/chenbo/anaconda/lib/python3.5/site-packages/ipykernel/__main__.py:9: SettingWithCopyWarning: \n",
      "A value is trying to be set on a copy of a slice from a DataFrame.\n",
      "Try using .loc[row_indexer,col_indexer] = value instead\n",
      "\n",
      "See the caveats in the documentation: http://pandas.pydata.org/pandas-docs/stable/indexing.html#indexing-view-versus-copy\n",
      "/Users/chenbo/anaconda/lib/python3.5/site-packages/ipykernel/__main__.py:10: SettingWithCopyWarning: \n",
      "A value is trying to be set on a copy of a slice from a DataFrame.\n",
      "Try using .loc[row_indexer,col_indexer] = value instead\n",
      "\n",
      "See the caveats in the documentation: http://pandas.pydata.org/pandas-docs/stable/indexing.html#indexing-view-versus-copy\n"
     ]
    }
   ],
   "source": [
    "index_val['click'] = pd.Series(val.click).values\n",
    "index_val['weekday'] = pd.Series(val.weekday).values\n",
    "index_val['hour'] = pd.Series(val.hour).values\n",
    "index_val['region'] = pd.Series(val.region).values\n",
    "index_val['city'] = pd.Series(val.city).values\n",
    "#index_val['adexchange'] = pd.Series(val.adexchange).values\n",
    "index_val['slotprice'] = pd.Series(val.slotprice).values\n",
    "index_val['bidprice'] = pd.Series(val.bidprice).values\n",
    "index_val['payprice'] = pd.Series(val.payprice).values\n",
    "index_val['advertiser'] = pd.Series(val.advertiser).values\n"
   ]
  },
  {
   "cell_type": "code",
   "execution_count": 22,
   "metadata": {
    "collapsed": false
   },
   "outputs": [
    {
     "name": "stderr",
     "output_type": "stream",
     "text": [
      "/Users/chenbo/anaconda/lib/python3.5/site-packages/ipykernel/__main__.py:1: SettingWithCopyWarning: \n",
      "A value is trying to be set on a copy of a slice from a DataFrame.\n",
      "Try using .loc[row_indexer,col_indexer] = value instead\n",
      "\n",
      "See the caveats in the documentation: http://pandas.pydata.org/pandas-docs/stable/indexing.html#indexing-view-versus-copy\n",
      "  if __name__ == '__main__':\n",
      "/Users/chenbo/anaconda/lib/python3.5/site-packages/ipykernel/__main__.py:2: SettingWithCopyWarning: \n",
      "A value is trying to be set on a copy of a slice from a DataFrame.\n",
      "Try using .loc[row_indexer,col_indexer] = value instead\n",
      "\n",
      "See the caveats in the documentation: http://pandas.pydata.org/pandas-docs/stable/indexing.html#indexing-view-versus-copy\n",
      "  from ipykernel import kernelapp as app\n",
      "/Users/chenbo/anaconda/lib/python3.5/site-packages/ipykernel/__main__.py:3: SettingWithCopyWarning: \n",
      "A value is trying to be set on a copy of a slice from a DataFrame.\n",
      "Try using .loc[row_indexer,col_indexer] = value instead\n",
      "\n",
      "See the caveats in the documentation: http://pandas.pydata.org/pandas-docs/stable/indexing.html#indexing-view-versus-copy\n",
      "  app.launch_new_instance()\n",
      "/Users/chenbo/anaconda/lib/python3.5/site-packages/ipykernel/__main__.py:4: SettingWithCopyWarning: \n",
      "A value is trying to be set on a copy of a slice from a DataFrame.\n",
      "Try using .loc[row_indexer,col_indexer] = value instead\n",
      "\n",
      "See the caveats in the documentation: http://pandas.pydata.org/pandas-docs/stable/indexing.html#indexing-view-versus-copy\n",
      "/Users/chenbo/anaconda/lib/python3.5/site-packages/ipykernel/__main__.py:6: SettingWithCopyWarning: \n",
      "A value is trying to be set on a copy of a slice from a DataFrame.\n",
      "Try using .loc[row_indexer,col_indexer] = value instead\n",
      "\n",
      "See the caveats in the documentation: http://pandas.pydata.org/pandas-docs/stable/indexing.html#indexing-view-versus-copy\n",
      "/Users/chenbo/anaconda/lib/python3.5/site-packages/ipykernel/__main__.py:7: SettingWithCopyWarning: \n",
      "A value is trying to be set on a copy of a slice from a DataFrame.\n",
      "Try using .loc[row_indexer,col_indexer] = value instead\n",
      "\n",
      "See the caveats in the documentation: http://pandas.pydata.org/pandas-docs/stable/indexing.html#indexing-view-versus-copy\n"
     ]
    }
   ],
   "source": [
    "index_test['weekday'] = pd.Series(test.weekday).values\n",
    "index_test['hour'] = pd.Series(test.hour).values\n",
    "index_test['region'] = pd.Series(test.region).values\n",
    "index_test['city'] = pd.Series(test.city).values\n",
    "#index_test['adexchange'] = pd.Series(test.adexchange).values\n",
    "index_test['slotprice'] = pd.Series(test.slotprice).values\n",
    "index_test['advertiser'] = pd.Series(test.advertiser).values\n"
   ]
  },
  {
   "cell_type": "code",
   "execution_count": 58,
   "metadata": {
    "collapsed": false
   },
   "outputs": [
    {
     "data": {
      "text/plain": [
       "226"
      ]
     },
     "execution_count": 58,
     "metadata": {},
     "output_type": "execute_result"
    }
   ],
   "source": [
    "sum(val.click)"
   ]
  },
  {
   "cell_type": "code",
   "execution_count": 23,
   "metadata": {
    "collapsed": true
   },
   "outputs": [],
   "source": [
    "index_test.to_csv('test_index.csv')\n",
    "index_train.to_csv('train_index.csv')\n",
    "index_val.to_csv('val_index.csv')"
   ]
  },
  {
   "cell_type": "code",
   "execution_count": 24,
   "metadata": {
    "collapsed": false
   },
   "outputs": [
    {
     "data": {
      "text/plain": [
       "(299749, 299749, 2697738)"
      ]
     },
     "execution_count": 24,
     "metadata": {},
     "output_type": "execute_result"
    }
   ],
   "source": [
    "len(index_test),len(index_val),len(index_train)"
   ]
  },
  {
   "cell_type": "code",
   "execution_count": 121,
   "metadata": {
    "collapsed": false
   },
   "outputs": [],
   "source": [
    "new_train =  pd.DataFrame(\n",
    "    {'click':train.click,\n",
    "    'weekday':train.weekday,\n",
    "    'hour':train.hour,\n",
    "    'userid':userid_number,\n",
    "    'useragent':useragent_number,\n",
    "    'IP':ip_number,\n",
    "    'region':train.region,\n",
    "    'city':train.city,\n",
    "    'adexchange':train.adexchange,\n",
    "    'domain':domain_number,\n",
    "    'url':url_number,\n",
    "    'slotid':slotid_number,\n",
    "    'slotwidth':slotwidth_number,\n",
    "    'slotheight':slotheight_number,\n",
    "    'slotvisibility':slotvisibility_number,\n",
    "    'slotformat':slotformat_number,\n",
    "    'slotprice':train.slotprice,\n",
    "    'creative':creative_number,\n",
    "    'bidprice':train.bidprice,\n",
    "    'payprice':train.payprice,\n",
    "    'keypage':keypage_number,\n",
    "    'advertiser':train.advertiser}\n",
    "    )"
   ]
  },
  {
   "cell_type": "code",
   "execution_count": 94,
   "metadata": {
    "collapsed": false
   },
   "outputs": [],
   "source": [
    "test_list = index_test.values.tolist()"
   ]
  },
  {
   "cell_type": "code",
   "execution_count": 2,
   "metadata": {
    "collapsed": true
   },
   "outputs": [],
   "source": [
    "from scipy.sparse import hstack\n",
    "def ctr_estimate(data_train,data_test):\n",
    "    train_label=data_train['click']\n",
    "    test_label=data_test['click']\n",
    "    train_set1= data_train.drop('click', 1)\n",
    "    train_set2 = train_set1.fillna(0)\n",
    "    test_set1=data_test.drop('click',1)\n",
    "    test_set2 = test_set1.fillna(0)\n",
    "    train_set = train_set2.values.tolist()\n",
    "    test_set = test_set2.values.tolist()\n",
    "    \n",
    "    return train_set , test_set,train_label,test_label\n",
    "    #del whole,user_tag_train,user_tag_test\n",
    "    "
   ]
  },
  {
   "cell_type": "markdown",
   "metadata": {},
   "source": [
    "# 把存好的table读进来"
   ]
  },
  {
   "cell_type": "code",
   "execution_count": 5,
   "metadata": {
    "collapsed": true
   },
   "outputs": [],
   "source": [
    "index_train = pd.read_csv('train_index.csv')\n",
    "index_val = pd.read_csv('val_index.csv')\n",
    "index_test = pd.read_csv('test_index.csv')"
   ]
  },
  {
   "cell_type": "code",
   "execution_count": 6,
   "metadata": {
    "collapsed": false
   },
   "outputs": [
    {
     "name": "stdout",
     "output_type": "stream",
     "text": [
      "Index(['Unnamed: 0', 'IP', 'adexchange', 'creative', 'domain', 'keypage',\n",
      "       'slotformat', 'slotheight', 'slotid', 'slotvisibility', 'slotwidth',\n",
      "       'url', 'useragent', 'userid', 'tag0', 'tag1', 'tag2', 'tag3', 'tag4',\n",
      "       'tag5', 'tag6', 'tag7', 'tag8', 'tag9', 'tag10', 'tag11', 'tag12',\n",
      "       'tag13', 'tag14', 'tag15', 'tag16', 'tag17', 'tag18', 'tag19', 'tag20',\n",
      "       'tag21', 'tag22', 'tag23', 'tag24', 'tag25', 'tag26', 'tag27', 'tag28',\n",
      "       'tag29', 'tag30', 'tag31', 'tag32', 'tag33', 'tag34', 'tag35', 'tag36',\n",
      "       'tag37', 'tag38', 'tag39', 'tag40', 'tag41', 'tag42', 'tag43', 'tag44',\n",
      "       'tag45', 'tag46', 'tag47', 'tag48', 'tag49', 'tag50', 'tag51', 'tag52',\n",
      "       'tag53', 'tag54', 'tag55', 'tag56', 'tag57', 'tag58', 'tag59', 'tag60',\n",
      "       'tag61', 'tag62', 'tag63', 'tag64', 'tag65', 'tag66', 'tag67', 'tag68',\n",
      "       'click', 'weekday', 'hour', 'region', 'city', 'slotprice', 'bidprice',\n",
      "       'payprice', 'advertiser'],\n",
      "      dtype='object')\n",
      "Index(['Unnamed: 0', 'IP', 'adexchange', 'creative', 'domain', 'keypage',\n",
      "       'slotformat', 'slotheight', 'slotid', 'slotvisibility', 'slotwidth',\n",
      "       'url', 'useragent', 'userid', 'tag0', 'tag1', 'tag2', 'tag3', 'tag4',\n",
      "       'tag5', 'tag6', 'tag7', 'tag8', 'tag9', 'tag10', 'tag11', 'tag12',\n",
      "       'tag13', 'tag14', 'tag15', 'tag16', 'tag17', 'tag18', 'tag19', 'tag20',\n",
      "       'tag21', 'tag22', 'tag23', 'tag24', 'tag25', 'tag26', 'tag27', 'tag28',\n",
      "       'tag29', 'tag30', 'tag31', 'tag32', 'tag33', 'tag34', 'tag35', 'tag36',\n",
      "       'tag37', 'tag38', 'tag39', 'tag40', 'tag41', 'tag42', 'tag43', 'tag44',\n",
      "       'tag45', 'tag46', 'tag47', 'tag48', 'tag49', 'tag50', 'tag51', 'tag52',\n",
      "       'tag53', 'tag54', 'tag55', 'tag56', 'tag57', 'tag58', 'tag59', 'tag60',\n",
      "       'tag61', 'tag62', 'tag63', 'tag64', 'tag65', 'tag66', 'tag67', 'tag68',\n",
      "       'weekday', 'hour', 'region', 'city', 'slotprice', 'advertiser'],\n",
      "      dtype='object')\n"
     ]
    }
   ],
   "source": [
    "print(index_train.columns)\n",
    "print(index_test.columns)#without bidprice/payprice\n"
   ]
  },
  {
   "cell_type": "code",
   "execution_count": 8,
   "metadata": {
    "collapsed": false
   },
   "outputs": [],
   "source": [
    "train_set ,test_set,train_label,test_label =ctr_estimate(index_train,index_val)"
   ]
  },
  {
   "cell_type": "code",
   "execution_count": 14,
   "metadata": {
    "collapsed": true
   },
   "outputs": [],
   "source": [
    "del index_train[\"bidprice\"]\n",
    "del index_train[\"payprice\"]"
   ]
  },
  {
   "cell_type": "code",
   "execution_count": 16,
   "metadata": {
    "collapsed": false
   },
   "outputs": [],
   "source": [
    "newtrain_set ,test_set,newtrain_label,test_label =ctr_estimate(index_train,index_val)"
   ]
  },
  {
   "cell_type": "code",
   "execution_count": 17,
   "metadata": {
    "collapsed": false
   },
   "outputs": [],
   "source": [
    "newtest_set =index_test.fillna(0)\n",
    "\n",
    "newtest_set = newtest_set.values.tolist()"
   ]
  },
  {
   "cell_type": "code",
   "execution_count": 26,
   "metadata": {
    "collapsed": false
   },
   "outputs": [],
   "source": [
    "import sklearn.linear_model as lm\n",
    "\n",
    "\n",
    "lg = lm.LogisticRegression(C=1,penalty='l2')\n",
    "model=lg.fit(train_set,train_label)\n",
    "#model=knn.fit(train_set,train_label)\n",
    "#model=svm.fit(train_set,train_label)\n",
    "#model=lg.fit(train_set,train_label)\n",
    "#from sklearn import tree  \n",
    "#from sklearn.metrics import precision_recall_curve  \n",
    "#from sklearn.metrics import classification_report  \n",
    "#from sklearn.cross_validation import train_test_split \n",
    "#print(\"start\")\n",
    "#clf = tree.DecisionTreeClassifier(criterion='entropy')  \n",
    "#print(clf)  \n",
    "#model=clf.fit(train_set,train_label)  \n"
   ]
  },
  {
   "cell_type": "code",
   "execution_count": 9,
   "metadata": {
    "collapsed": false
   },
   "outputs": [
    {
     "name": "stdout",
     "output_type": "stream",
     "text": [
      "start\n"
     ]
    }
   ],
   "source": [
    "from sklearn import tree  \n",
    "from sklearn.calibration import CalibratedClassifierCV\n",
    "from sklearn.metrics import precision_recall_curve  \n",
    "from sklearn.metrics import classification_report  \n",
    "from sklearn.cross_validation import train_test_split \n",
    "print(\"start\")\n",
    "clf = CalibratedClassifierCV(tree.DecisionTreeClassifier(criterion='entropy'))  \n",
    "#print(clf)  \n",
    "model_tree=clf.fit(train_set,train_label)  "
   ]
  },
  {
   "cell_type": "code",
   "execution_count": 18,
   "metadata": {
    "collapsed": false
   },
   "outputs": [
    {
     "name": "stdout",
     "output_type": "stream",
     "text": [
      "start\n"
     ]
    }
   ],
   "source": [
    "\n",
    "print(\"start\")\n",
    "clf = CalibratedClassifierCV(tree.DecisionTreeClassifier(criterion='entropy'))  \n",
    "#print(clf)  \n",
    "model_tree_new=clf.fit(newtrain_set,train_label)  "
   ]
  },
  {
   "cell_type": "code",
   "execution_count": 13,
   "metadata": {
    "collapsed": false
   },
   "outputs": [
    {
     "name": "stdout",
     "output_type": "stream",
     "text": [
      "start\n"
     ]
    }
   ],
   "source": [
    "from sklearn.naive_bayes import GaussianNB\n",
    "from sklearn.calibration import CalibratedClassifierCV\n",
    "print(\"start\")\n",
    "\n",
    "clf =CalibratedClassifierCV(GaussianNB())\n",
    "\n",
    "#拟合数据\n",
    "model_NB=clf.fit(train_set,train_label)"
   ]
  },
  {
   "cell_type": "code",
   "execution_count": 19,
   "metadata": {
    "collapsed": true
   },
   "outputs": [],
   "source": [
    "def predictfun(model, test_set):\n",
    "    predicted_0=model.predict(test_set)\n",
    "    predicted= model.predict_proba(test_set)\n",
    "    predicted1=[el[1] for el in predicted]\n",
    "    return predicted1\n",
    "    "
   ]
  },
  {
   "cell_type": "code",
   "execution_count": 20,
   "metadata": {
    "collapsed": true
   },
   "outputs": [],
   "source": [
    "prediction_test=predicted_lr= model.predict_proba(index_test)"
   ]
  },
  {
   "cell_type": "code",
   "execution_count": 21,
   "metadata": {
    "collapsed": false
   },
   "outputs": [],
   "source": [
    "prediction_nb=predictfun(model_NB,test_set)"
   ]
  },
  {
   "cell_type": "code",
   "execution_count": 19,
   "metadata": {
    "collapsed": true
   },
   "outputs": [],
   "source": [
    "prediction_decision=predictfun(model_tree,test_set)"
   ]
  },
  {
   "cell_type": "code",
   "execution_count": 81,
   "metadata": {
    "collapsed": false
   },
   "outputs": [
    {
     "data": {
      "text/html": [
       "<div>\n",
       "<table border=\"1\" class=\"dataframe\">\n",
       "  <thead>\n",
       "    <tr style=\"text-align: right;\">\n",
       "      <th></th>\n",
       "      <th>ctr</th>\n",
       "    </tr>\n",
       "  </thead>\n",
       "  <tbody>\n",
       "    <tr>\n",
       "      <th>0</th>\n",
       "      <td>0.000625</td>\n",
       "    </tr>\n",
       "    <tr>\n",
       "      <th>1</th>\n",
       "      <td>0.000625</td>\n",
       "    </tr>\n",
       "    <tr>\n",
       "      <th>2</th>\n",
       "      <td>0.000625</td>\n",
       "    </tr>\n",
       "    <tr>\n",
       "      <th>3</th>\n",
       "      <td>0.000625</td>\n",
       "    </tr>\n",
       "    <tr>\n",
       "      <th>4</th>\n",
       "      <td>0.057368</td>\n",
       "    </tr>\n",
       "  </tbody>\n",
       "</table>\n",
       "</div>"
      ],
      "text/plain": [
       "        ctr\n",
       "0  0.000625\n",
       "1  0.000625\n",
       "2  0.000625\n",
       "3  0.000625\n",
       "4  0.057368"
      ]
     },
     "execution_count": 81,
     "metadata": {},
     "output_type": "execute_result"
    }
   ],
   "source": [
    "tree_ctr=pd.DataFrame({'ctr':prediction_decision})\n",
    "tree_ctr.head()"
   ]
  },
  {
   "cell_type": "code",
   "execution_count": 82,
   "metadata": {
    "collapsed": true
   },
   "outputs": [],
   "source": [
    "tree_ctr.to_csv(\"tree_ctr.csv\")"
   ]
  },
  {
   "cell_type": "code",
   "execution_count": 20,
   "metadata": {
    "collapsed": true
   },
   "outputs": [],
   "source": [
    "from sklearn.metrics import roc_auc_score\n",
    "\n",
    "auc = roc_auc_score(test_label,prediction_decision)"
   ]
  },
  {
   "cell_type": "code",
   "execution_count": 22,
   "metadata": {
    "collapsed": true
   },
   "outputs": [],
   "source": [
    "from sklearn.metrics import roc_auc_score\n",
    "\n",
    "auc_nb = roc_auc_score(test_label,prediction_nb)"
   ]
  },
  {
   "cell_type": "code",
   "execution_count": 23,
   "metadata": {
    "collapsed": false
   },
   "outputs": [
    {
     "name": "stdout",
     "output_type": "stream",
     "text": [
      "0.684752665292\n",
      "0.51480112228\n"
     ]
    }
   ],
   "source": [
    "print(auc)\n",
    "print(auc_nb)"
   ]
  },
  {
   "cell_type": "code",
   "execution_count": 28,
   "metadata": {
    "collapsed": false
   },
   "outputs": [
    {
     "name": "stdout",
     "output_type": "stream",
     "text": [
      "0.0282133744753\n",
      "0.027447933038\n"
     ]
    }
   ],
   "source": [
    "from sklearn import metrics\n",
    "import numpy as np\n",
    "\n",
    "rms_nb=np.sqrt(metrics.mean_squared_error(prediction_nb,test_label))\n",
    "rms_tree=np.sqrt(metrics.mean_squared_error(prediction_decision,test_label))\n",
    "print(rms_tree)\n",
    "print(rms_nb)"
   ]
  },
  {
   "cell_type": "code",
   "execution_count": 21,
   "metadata": {
    "collapsed": false
   },
   "outputs": [
    {
     "data": {
      "text/plain": [
       "(array([ 289073.,       0.,       0.,    7471.,       0.,       0.,\n",
       "           1659.,       0.,       0.,    1546.]),\n",
       " array([ 0.00062262,  0.00914513,  0.01766763,  0.02619014,  0.03471264,\n",
       "         0.04323514,  0.05175765,  0.06028015,  0.06880265,  0.07732516,\n",
       "         0.08584766]),\n",
       " <a list of 10 Patch objects>)"
      ]
     },
     "execution_count": 21,
     "metadata": {},
     "output_type": "execute_result"
    },
    {
     "data": {
      "image/png": "[encoded data removed]",
      "text/plain": [
       "<matplotlib.figure.Figure at 0x114bece10>"
      ]
     },
     "metadata": {},
     "output_type": "display_data"
    }
   ],
   "source": [
    "plt.hist(prediction_test)"
   ]
  },
  {
   "cell_type": "code",
   "execution_count": null,
   "metadata": {
    "collapsed": true
   },
   "outputs": [],
   "source": []
  },
  {
   "cell_type": "code",
   "execution_count": 37,
   "metadata": {
    "collapsed": false
   },
   "outputs": [],
   "source": [
    "from sklearn.calibration import CalibratedClassifierCV\n",
    "from sklearn import ensemble\n",
    "import scipy as sp\n",
    "import sklearn as sk\n",
    "\n",
    "svm=CalibratedClassifierCV(sk.svm.SVC(kernel='rbf',C=12))\n",
    "\n",
    "#knn=CalibratedClassifierCV(sk.neighbors.KNeighborsClassifier(n_neighbors=4))\n",
    "\n",
    "g_boosting=ensemble.GradientBoostingRegressor()"
   ]
  },
  {
   "cell_type": "code",
   "execution_count": 48,
   "metadata": {
    "collapsed": true
   },
   "outputs": [],
   "source": [
    "g_boosting=ensemble.GradientBoostingRegressor(max_depth=5,learning_rate=0.05,n_estimators=50)\n"
   ]
  },
  {
   "cell_type": "code",
   "execution_count": 56,
   "metadata": {
    "collapsed": false
   },
   "outputs": [],
   "source": [
    "predicted_boosting = boosting_model.predict(test_set)"
   ]
  },
  {
   "cell_type": "code",
   "execution_count": 26,
   "metadata": {
    "collapsed": false
   },
   "outputs": [],
   "source": [
    "result_desition= []\n",
    "for c in range(1,200,1):\n",
    "    bid_price= non_lin(c,prediction_test)#prediction from decision tree\n",
    "    re = validation_budget(bid_price,25000)\n",
    "    result_desition.append(re)  \n",
    "clicks =[]\n",
    "spend = []\n",
    "\n",
    "for r in result_desition:\n",
    "    clicks.append(r[4])\n",
    "    spend.append(r[1])"
   ]
  },
  {
   "cell_type": "code",
   "execution_count": 29,
   "metadata": {
    "collapsed": false
   },
   "outputs": [
    {
     "data": {
      "text/plain": [
       "106"
      ]
     },
     "execution_count": 29,
     "metadata": {},
     "output_type": "execute_result"
    }
   ],
   "source": [
    "clicks.index(226)"
   ]
  },
  {
   "cell_type": "code",
   "execution_count": 30,
   "metadata": {
    "collapsed": false
   },
   "outputs": [
    {
     "data": {
      "text/plain": [
       "[[0.00075396415000550463,\n",
       "  24045.218000000001,\n",
       "  106.39476991150443,\n",
       "  0.080217842261358668,\n",
       "  226]]"
      ]
     },
     "execution_count": 30,
     "metadata": {},
     "output_type": "execute_result"
    }
   ],
   "source": [
    "result_single= []\n",
    "\n",
    "bid_price= non_lin(107,prediction_test)#prediction from decision tree\n",
    "re = validation_budget(bid_price,25000)\n",
    "result_single.append(re)\n",
    "clicks =[]\n",
    "spend = []\n",
    "\n",
    "for r in result_single:\n",
    "    clicks.append(r[4])\n",
    "    spend.append(r[1])\n",
    "result_single"
   ]
  },
  {
   "cell_type": "code",
   "execution_count": 80,
   "metadata": {
    "collapsed": false
   },
   "outputs": [
    {
     "data": {
      "text/plain": [
       "[0.00075396415000550463,\n",
       " 24045.218000000001,\n",
       " 106.39476991150443,\n",
       " 0.080217842261358668,\n",
       " 226]"
      ]
     },
     "execution_count": 80,
     "metadata": {},
     "output_type": "execute_result"
    }
   ],
   "source": [
    "re"
   ]
  },
  {
   "cell_type": "code",
   "execution_count": 31,
   "metadata": {
    "collapsed": false
   },
   "outputs": [
    {
     "data": {
      "text/html": [
       "<div>\n",
       "<table border=\"1\" class=\"dataframe\">\n",
       "  <thead>\n",
       "    <tr style=\"text-align: right;\">\n",
       "      <th></th>\n",
       "      <th>bidprice</th>\n",
       "    </tr>\n",
       "  </thead>\n",
       "  <tbody>\n",
       "    <tr>\n",
       "      <th>0</th>\n",
       "      <td>1359.965729</td>\n",
       "    </tr>\n",
       "    <tr>\n",
       "      <th>1</th>\n",
       "      <td>301.382225</td>\n",
       "    </tr>\n",
       "    <tr>\n",
       "      <th>2</th>\n",
       "      <td>301.382225</td>\n",
       "    </tr>\n",
       "    <tr>\n",
       "      <th>3</th>\n",
       "      <td>301.382225</td>\n",
       "    </tr>\n",
       "    <tr>\n",
       "      <th>4</th>\n",
       "      <td>301.382225</td>\n",
       "    </tr>\n",
       "  </tbody>\n",
       "</table>\n",
       "</div>"
      ],
      "text/plain": [
       "      bidprice\n",
       "0  1359.965729\n",
       "1   301.382225\n",
       "2   301.382225\n",
       "3   301.382225\n",
       "4   301.382225"
      ]
     },
     "execution_count": 31,
     "metadata": {},
     "output_type": "execute_result"
    }
   ],
   "source": [
    "df_sub = pd.DataFrame({'bidprice':bid_price})\n",
    "df_sub.head()"
   ]
  },
  {
   "cell_type": "code",
   "execution_count": 32,
   "metadata": {
    "collapsed": true
   },
   "outputs": [],
   "source": [
    "df_sub.to_csv(\"submittest.csv\")"
   ]
  },
  {
   "cell_type": "code",
   "execution_count": 63,
   "metadata": {
    "collapsed": false
   },
   "outputs": [
    {
     "data": {
      "text/plain": [
       "106"
      ]
     },
     "execution_count": 63,
     "metadata": {},
     "output_type": "execute_result"
    }
   ],
   "source": [
    "clicks.index(226)"
   ]
  },
  {
   "cell_type": "code",
   "execution_count": 69,
   "metadata": {
    "collapsed": false
   },
   "outputs": [
    {
     "data": {
      "text/plain": [
       "[22]"
      ]
     },
     "execution_count": 69,
     "metadata": {},
     "output_type": "execute_result"
    }
   ],
   "source": [
    "clicks"
   ]
  },
  {
   "cell_type": "code",
   "execution_count": 27,
   "metadata": {
    "collapsed": false
   },
   "outputs": [
    {
     "data": {
      "image/png": "[encoded data removed]",
      "text/plain": [
       "<matplotlib.figure.Figure at 0x1ddd8a438>"
      ]
     },
     "metadata": {},
     "output_type": "display_data"
    }
   ],
   "source": [
    "fig, ax1 = plt.subplots()\n",
    "x = range(1,200,1)\n",
    "\n",
    "ax1.plot(x, clicks, 'b-')\n",
    "ax1.set_xlabel('bidding_price')\n",
    "# Make the y-axis label, ticks and tick labels match the line color.\n",
    "ax1.set_ylabel('Clicks', color='b')\n",
    "ax1.tick_params('y', colors='b')\n",
    "\n",
    "ax2 = ax1.twinx()\n",
    "\n",
    "ax2.plot(x, spend, 'r.')\n",
    "ax2.set_ylabel('Spend', color='r')\n",
    "ax2.tick_params('y', colors='r')\n",
    "\n",
    "fig.tight_layout()\n",
    "plt.show()"
   ]
  },
  {
   "cell_type": "code",
   "execution_count": 40,
   "metadata": {
    "collapsed": false
   },
   "outputs": [],
   "source": [
    "result_bys= []\n",
    "for c in range(170,250,1):\n",
    "    bid_price= non_lin(c,predicted_0)#prediction from decision tree\n",
    "    re = validation_budget(bid_price,25000)\n",
    "    result_bys.append(re)\n",
    "clicks =[]\n",
    "spend = []\n",
    "\n",
    "for r in result_bys:\n",
    "    clicks.append(r[4])\n",
    "    spend.append(r[1])"
   ]
  },
  {
   "cell_type": "code",
   "execution_count": 64,
   "metadata": {
    "collapsed": false
   },
   "outputs": [],
   "source": [
    "result_svm= []\n",
    "for c in range(100,180,1):\n",
    "    bid_price= non_lin(c,predicted_boosting)\n",
    "    re = validation_budget(bid_price,25000)\n",
    "    result_svm.append(re)\n",
    "    \n",
    "clicks =[]\n",
    "spend = []\n",
    "\n",
    "for r in result_svm:\n",
    "    clicks.append(r[4])\n",
    "    spend.append(r[1])"
   ]
  },
  {
   "cell_type": "code",
   "execution_count": 41,
   "metadata": {
    "collapsed": false
   },
   "outputs": [
    {
     "data": {
      "image/png": "[encoded data removed]",
      "text/plain": [
       "<matplotlib.figure.Figure at 0x14a62d7f0>"
      ]
     },
     "metadata": {},
     "output_type": "display_data"
    }
   ],
   "source": [
    "\n",
    "fig, ax1 = plt.subplots()\n",
    "x = range(170,250,1)\n",
    "\n",
    "ax1.plot(x, clicks, 'b-')\n",
    "ax1.set_xlabel('bidding_price')\n",
    "# Make the y-axis label, ticks and tick labels match the line color.\n",
    "ax1.set_ylabel('Clicks', color='b')\n",
    "ax1.tick_params('y', colors='b')\n",
    "\n",
    "ax2 = ax1.twinx()\n",
    "\n",
    "ax2.plot(x, spend, 'r.')\n",
    "ax2.set_ylabel('Spend', color='r')\n",
    "ax2.tick_params('y', colors='r')\n",
    "\n",
    "fig.tight_layout()\n",
    "plt.show()"
   ]
  },
  {
   "cell_type": "code",
   "execution_count": 60,
   "metadata": {
    "collapsed": false
   },
   "outputs": [
    {
     "data": {
      "text/plain": [
       "224"
      ]
     },
     "execution_count": 60,
     "metadata": {},
     "output_type": "execute_result"
    }
   ],
   "source": [
    "max(clicks)"
   ]
  },
  {
   "cell_type": "code",
   "execution_count": 38,
   "metadata": {
    "collapsed": false
   },
   "outputs": [],
   "source": [
    "from sklearn import svm\n",
    "svc = CalibratedClassifierCV(svm.LinearSVC(penalty='l2', C=0.3,class_weight='balanced')).fit(train_set, train_label)\n",
    "\n",
    "predicted_svm = svc.predict_proba(test_set)\n",
    "predicted1_svm=[el[1] for el in predicted_svm]"
   ]
  },
  {
   "cell_type": "code",
   "execution_count": 39,
   "metadata": {
    "collapsed": false
   },
   "outputs": [
    {
     "data": {
      "text/plain": [
       "(array([  9.00000000e+01,   2.48000000e+03,   5.13080000e+04,\n",
       "          9.03920000e+04,   1.42359000e+05,   9.12700000e+03,\n",
       "          1.32200000e+03,   1.35000000e+03,   1.21700000e+03,\n",
       "          1.04000000e+02]),\n",
       " array([ 0.00062007,  0.00063741,  0.00065475,  0.00067209,  0.00068943,\n",
       "         0.00070677,  0.00072411,  0.00074145,  0.00075879,  0.00077613,\n",
       "         0.00079347]),\n",
       " <a list of 10 Patch objects>)"
      ]
     },
     "execution_count": 39,
     "metadata": {},
     "output_type": "execute_result"
    },
    {
     "data": {
      "image/png": "[encoded data removed]",
      "text/plain": [
       "<matplotlib.figure.Figure at 0x18ec30f28>"
      ]
     },
     "metadata": {},
     "output_type": "display_data"
    }
   ],
   "source": [
    "plt.hist(predicted1_svm)"
   ]
  },
  {
   "cell_type": "code",
   "execution_count": 66,
   "metadata": {
    "collapsed": false
   },
   "outputs": [],
   "source": [
    "cm = create_confusion_matrix(test_label,predicted_0)"
   ]
  },
  {
   "cell_type": "code",
   "execution_count": 67,
   "metadata": {
    "collapsed": false
   },
   "outputs": [
    {
     "data": {
      "text/html": [
       "<div>\n",
       "<table border=\"1\" class=\"dataframe\">\n",
       "  <thead>\n",
       "    <tr style=\"text-align: right;\">\n",
       "      <th></th>\n",
       "      <th>Label</th>\n",
       "      <th>Gold</th>\n",
       "      <th>Guess</th>\n",
       "      <th>Precision</th>\n",
       "      <th>Recall</th>\n",
       "      <th>F1</th>\n",
       "    </tr>\n",
       "  </thead>\n",
       "  <tbody>\n",
       "    <tr>\n",
       "      <th>0</th>\n",
       "      <td>0</td>\n",
       "      <td>299523</td>\n",
       "      <td>299749</td>\n",
       "      <td>0.999246</td>\n",
       "      <td>1.000000</td>\n",
       "      <td>0.999623</td>\n",
       "    </tr>\n",
       "    <tr>\n",
       "      <th>1</th>\n",
       "      <td>1</td>\n",
       "      <td>226</td>\n",
       "      <td>0</td>\n",
       "      <td>0.000000</td>\n",
       "      <td>0.000000</td>\n",
       "      <td>0.000000</td>\n",
       "    </tr>\n",
       "    <tr>\n",
       "      <th>2</th>\n",
       "      <td>[All]</td>\n",
       "      <td>299749</td>\n",
       "      <td>299749</td>\n",
       "      <td>0.999246</td>\n",
       "      <td>0.999246</td>\n",
       "      <td>0.999246</td>\n",
       "    </tr>\n",
       "  </tbody>\n",
       "</table>\n",
       "</div>"
      ],
      "text/plain": [
       "   Label    Gold   Guess  Precision    Recall        F1\n",
       "0      0  299523  299749   0.999246  1.000000  0.999623\n",
       "1      1     226       0   0.000000  0.000000  0.000000\n",
       "2  [All]  299749  299749   0.999246  0.999246  0.999246"
      ]
     },
     "execution_count": 67,
     "metadata": {},
     "output_type": "execute_result"
    }
   ],
   "source": [
    "full_evaluation_table(cm)"
   ]
  },
  {
   "cell_type": "markdown",
   "metadata": {},
   "source": [
    "### plt.hist(predicted)"
   ]
  },
  {
   "cell_type": "code",
   "execution_count": 65,
   "metadata": {
    "collapsed": false
   },
   "outputs": [
    {
     "data": {
      "text/plain": [
       "0    299523\n",
       "1       226\n",
       "Name: click, dtype: int64"
      ]
     },
     "execution_count": 65,
     "metadata": {},
     "output_type": "execute_result"
    }
   ],
   "source": [
    "index_val.click.value_counts()"
   ]
  },
  {
   "cell_type": "code",
   "execution_count": 6,
   "metadata": {
    "collapsed": false
   },
   "outputs": [],
   "source": [
    "import collections as c\n",
    "\n",
    "def index_pre(a_list):\n",
    "    userid_n = []\n",
    "    userid_d = c.defaultdict()\n",
    "    index = 1\n",
    "\n",
    "    for user in a_list:\n",
    "        if user in userid_d.keys():\n",
    "            userid_n.append(userid_d[user])\n",
    "        else:\n",
    "            userid_d[user] = index\n",
    "            userid_n.append(userid_d[user])\n",
    "            index += 1\n",
    "    return userid_n,userid_d\n",
    "\n",
    "        "
   ]
  },
  {
   "cell_type": "code",
   "execution_count": 74,
   "metadata": {
    "collapsed": false
   },
   "outputs": [],
   "source": [
    "tags= []\n",
    "for usertag in train.usertag:\n",
    "    for tag in usertag.split(','):\n",
    "        if tag not in tags:\n",
    "            tags.append(tag)\n",
    "    "
   ]
  },
  {
   "cell_type": "code",
   "execution_count": 105,
   "metadata": {
    "collapsed": false
   },
   "outputs": [],
   "source": [
    "L = []\n",
    "for t in tags:\n",
    "    s = 'L'+t\n",
    "    L.append(s)"
   ]
  },
  {
   "cell_type": "code",
   "execution_count": 106,
   "metadata": {
    "collapsed": false
   },
   "outputs": [],
   "source": [
    "for i,t in enumerate(tags):\n",
    "    L[i]= []\n",
    "    for string in train.usertag:\n",
    "        if string.find(t) < 0:\n",
    "            L[i].append(0)\n",
    "        else:\n",
    "            L[i].append(1)"
   ]
  },
  {
   "cell_type": "code",
   "execution_count": 118,
   "metadata": {
    "collapsed": false
   },
   "outputs": [],
   "source": [
    "df= pd.DataFrame()\n",
    "for i in range(0,69):\n",
    "    se = pd.Series(L[i])\n",
    "    df['tag'+str(i)] = se.values"
   ]
  },
  {
   "cell_type": "code",
   "execution_count": 24,
   "metadata": {
    "collapsed": true
   },
   "outputs": [],
   "source": [
    "# validation function\n",
    "\n",
    "def validation(bidding):\n",
    "    new= val.assign(bidding = bidding, diff= bidding -val['payprice'])\n",
    "    new= new[new['diff'] >= 0]\n",
    "    clicks =sum(new['click'])\n",
    "    ctr= clicks/len(new)\n",
    "    spend = sum(new['payprice'])/1000\n",
    "    cpc = spend/clicks\n",
    "    cpm = spend/len(new)\n",
    "    return [ctr,spend,cpc,cpm,clicks]\n",
    "    "
   ]
  },
  {
   "cell_type": "code",
   "execution_count": null,
   "metadata": {
    "collapsed": true
   },
   "outputs": [],
   "source": [
    "result=validation()"
   ]
  },
  {
   "cell_type": "code",
   "execution_count": 25,
   "metadata": {
    "collapsed": true
   },
   "outputs": [],
   "source": [
    "def non_lin(c,predict):\n",
    "    lam= 5.2e-7\n",
    "    bid_price = []\n",
    "    for ctr in predict:\n",
    "        #biding_p=c*((((ctr+np.sqrt(c**2*lam**2+ctr**2))/c*lam)**(1/3))-((c*lam/(ctr+np.sqrt(c**2*lam**2+ctr**2)))**(1/3)))\n",
    "        b= c*(((ctr + np.sqrt(c**2 * lam**2 +ctr**2))/(c*lam))**(1/3)) - (((c*lam)/(ctr + np.sqrt(c**2 * lam**2 +ctr**2))) ** (1/3))\n",
    "        bid_price.append(b)\n",
    "    return bid_price"
   ]
  },
  {
   "cell_type": "code",
   "execution_count": 45,
   "metadata": {
    "collapsed": true
   },
   "outputs": [],
   "source": [
    "result_svm= []\n",
    "for c in range(1,100,1):\n",
    "    bid_price= non_lin(c,predicted1_svm)\n",
    "    re = validation_budget(bid_price,25000)\n",
    "    result_svm.append(re)\n",
    "    \n",
    "clicks =[]\n",
    "spend = []\n",
    "\n",
    "for r in result_svm:\n",
    "    clicks.append(r[4])\n",
    "    spend.append(r[1])"
   ]
  },
  {
   "cell_type": "code",
   "execution_count": 46,
   "metadata": {
    "collapsed": false
   },
   "outputs": [
    {
     "data": {
      "image/png": "[encoded data removed]",
      "text/plain": [
       "<matplotlib.figure.Figure at 0x18f23fe48>"
      ]
     },
     "metadata": {},
     "output_type": "display_data"
    }
   ],
   "source": [
    "\n",
    "fig, ax1 = plt.subplots()\n",
    "x = range(1,100,1)\n",
    "\n",
    "ax1.plot(x, clicks, 'b-')\n",
    "ax1.set_xlabel('bidding_price')\n",
    "# Make the y-axis label, ticks and tick labels match the line color.\n",
    "ax1.set_ylabel('Clicks', color='b')\n",
    "ax1.tick_params('y', colors='b')\n",
    "\n",
    "ax2 = ax1.twinx()\n",
    "\n",
    "ax2.plot(x, spend, 'r.')\n",
    "ax2.set_ylabel('Spend', color='r')\n",
    "ax2.tick_params('y', colors='r')\n",
    "\n",
    "fig.tight_layout()\n",
    "plt.show()"
   ]
  },
  {
   "cell_type": "code",
   "execution_count": 17,
   "metadata": {
    "collapsed": true
   },
   "outputs": [],
   "source": [
    "result= []\n",
    "for c in range(25,100,1):\n",
    "    bid_price= non_lin(c)\n",
    "    re = validation(bid_price)\n",
    "    result.append(re)\n",
    "   "
   ]
  },
  {
   "cell_type": "code",
   "execution_count": 18,
   "metadata": {
    "collapsed": true
   },
   "outputs": [],
   "source": [
    "clicks =[]\n",
    "spend = []\n",
    "\n",
    "for r in result:\n",
    "    clicks.append(r[4])\n",
    "    spend.append(r[1])"
   ]
  },
  {
   "cell_type": "code",
   "execution_count": 65,
   "metadata": {
    "collapsed": false
   },
   "outputs": [
    {
     "data": {
      "image/png": "[encoded data removed]",
      "text/plain": [
       "<matplotlib.figure.Figure at 0x152fc2da0>"
      ]
     },
     "metadata": {},
     "output_type": "display_data"
    }
   ],
   "source": [
    "\n",
    "fig, ax1 = plt.subplots()\n",
    "x = range(25,100,1)\n",
    "\n",
    "ax1.plot(x, clicks, 'b-')\n",
    "ax1.set_xlabel('bidding_price')\n",
    "# Make the y-axis label, ticks and tick labels match the line color.\n",
    "ax1.set_ylabel('Clicks', color='b')\n",
    "ax1.tick_params('y', colors='b')\n",
    "\n",
    "ax2 = ax1.twinx()\n",
    "\n",
    "ax2.plot(x, spend, 'r.')\n",
    "ax2.set_ylabel('Spend', color='r')\n",
    "ax2.tick_params('y', colors='r')\n",
    "\n",
    "fig.tight_layout()\n",
    "plt.show()"
   ]
  },
  {
   "cell_type": "code",
   "execution_count": 23,
   "metadata": {
    "collapsed": true
   },
   "outputs": [],
   "source": [
    "def validation_budget(bidding,budget):\n",
    "    new= val.assign(bidding = bidding, diff= bidding -val['payprice'])\n",
    "    new= new[new['diff'] >= 0]\n",
    "    cost= 0\n",
    "    index= 0\n",
    "    for pay in new.payprice:\n",
    "        cost= pay + cost\n",
    "        index += 1\n",
    "        if cost/1000 >= budget:\n",
    "            break\n",
    "        \n",
    "    \n",
    "    clicks =sum(new['click'][:index])\n",
    "    ctr= clicks/index\n",
    "    spend = sum(new['payprice'][:index])/1000\n",
    "    cpc = spend/clicks\n",
    "    cpm = spend/index\n",
    "    return [ctr,spend,cpc,cpm,clicks]\n",
    "    "
   ]
  },
  {
   "cell_type": "code",
   "execution_count": 34,
   "metadata": {
    "collapsed": true
   },
   "outputs": [],
   "source": [
    "bid_price= non_lin(60)\n",
    "re = validation_budget(bid_price,25000)"
   ]
  },
  {
   "cell_type": "code",
   "execution_count": null,
   "metadata": {
    "collapsed": true
   },
   "outputs": [],
   "source": [
    "b"
   ]
  },
  {
   "cell_type": "code",
   "execution_count": 35,
   "metadata": {
    "collapsed": false
   },
   "outputs": [
    {
     "data": {
      "text/plain": [
       "[0.00074032880330888746,\n",
       " 21237.634999999998,\n",
       " 99.707206572769948,\n",
       " 0.073816116923290806,\n",
       " 213]"
      ]
     },
     "execution_count": 35,
     "metadata": {},
     "output_type": "execute_result"
    }
   ],
   "source": [
    "re"
   ]
  },
  {
   "cell_type": "code",
   "execution_count": 32,
   "metadata": {
    "collapsed": false
   },
   "outputs": [],
   "source": [
    "result= []\n",
    "for c in range(1,100,1):\n",
    "    bid_price= non_lin(c)\n",
    "    re = validation_budget(bid_price,25000)\n",
    "    result.append(re)\n",
    "    \n",
    "clicks =[]\n",
    "spend = []\n",
    "\n",
    "for r in result:\n",
    "    clicks.append(r[4])\n",
    "    spend.append(r[1])"
   ]
  },
  {
   "cell_type": "code",
   "execution_count": 33,
   "metadata": {
    "collapsed": false
   },
   "outputs": [
    {
     "data": {
      "image/png": "[encoded data removed]",
      "text/plain": [
       "<matplotlib.figure.Figure at 0x18ffc17f0>"
      ]
     },
     "metadata": {},
     "output_type": "display_data"
    }
   ],
   "source": [
    "\n",
    "fig, ax1 = plt.subplots()\n",
    "x = range(1,100,1)\n",
    "\n",
    "ax1.plot(x, clicks, 'b-')\n",
    "ax1.set_xlabel('bidding_price')\n",
    "# Make the y-axis label, ticks and tick labels match the line color.\n",
    "ax1.set_ylabel('Clicks', color='b')\n",
    "ax1.tick_params('y', colors='b')\n",
    "\n",
    "ax2 = ax1.twinx()\n",
    "\n",
    "ax2.plot(x, spend, 'r.')\n",
    "ax2.set_ylabel('Spend', color='r')\n",
    "ax2.tick_params('y', colors='r')\n",
    "\n",
    "fig.tight_layout()\n",
    "plt.show()"
   ]
  },
  {
   "cell_type": "code",
   "execution_count": 61,
   "metadata": {
    "collapsed": false
   },
   "outputs": [
    {
     "data": {
      "text/plain": [
       "[0.00075488410012782708,\n",
       " 23589.347000000002,\n",
       " 104.84154222222223,\n",
       " 0.079143213256435807,\n",
       " 225]"
      ]
     },
     "execution_count": 61,
     "metadata": {},
     "output_type": "execute_result"
    }
   ],
   "source": [
    "result"
   ]
  },
  {
   "cell_type": "markdown",
   "metadata": {},
   "source": [
    "# Constant"
   ]
  },
  {
   "cell_type": "code",
   "execution_count": 95,
   "metadata": {
    "collapsed": false
   },
   "outputs": [
    {
     "name": "stdout",
     "output_type": "stream",
     "text": [
      "[0.0011122763530047352, 7143.009, 204.08597142857144, 0.22700000000000001, 35]\n",
      "[0.00077607995721072664, 22422.695, 303.00939189189188, 0.23515951589390777, 74]\n",
      "[0.00077495014306771875, 47089.040000000001, 329.293986013986, 0.25518642157287785, 143]\n",
      "[0.00069064701437358312, 29398.652999999998, 345.8665058823529, 0.23887166965947038, 85]\n",
      "[0.00075396415000550463, 81655.339999999997, 361.306814159292, 0.27241238502880744, 226]\n",
      "[0.00075396415000550463, 81655.339999999997, 361.306814159292, 0.27241238502880744, 226]\n"
     ]
    }
   ],
   "source": [
    "# performance of 6 moments\n",
    "\n",
    "min_ctr=validation([2.270000e+02] * len(val))\n",
    "print(min_ctr)\n",
    "first_q_ctr = validation([2.410000e+02] * len(val))\n",
    "print(first_q_ctr)\n",
    "median_ctr = validation([2.940000e+02] * len(val))\n",
    "print(median_ctr)\n",
    "mean_ctr = validation([2.724582e+02] * len(val))\n",
    "print(mean_ctr)\n",
    "third_q_ctr = validation([3.000000e+02] * len(val))\n",
    "print(third_q_ctr)\n",
    "max_ctr = validation([3.000000e+02] * len(val))\n",
    "print(max_ctr)\n"
   ]
  },
  {
   "cell_type": "code",
   "execution_count": 4,
   "metadata": {
    "collapsed": true
   },
   "outputs": [],
   "source": [
    "constants= []\n",
    "for i in range(227,300):\n",
    "    constants.append(validation(i))  \n",
    "    "
   ]
  },
  {
   "cell_type": "code",
   "execution_count": 5,
   "metadata": {
    "collapsed": true
   },
   "outputs": [],
   "source": [
    "ctr=[]\n",
    "spend=[]\n",
    "for constant in constants:\n",
    "    ctr.append(constant[0])\n",
    "    spend.append(constant[1])\n",
    "    "
   ]
  },
  {
   "cell_type": "code",
   "execution_count": 10,
   "metadata": {
    "collapsed": false
   },
   "outputs": [
    {
     "data": {
      "image/png": "[encoded data removed]",
      "text/plain": [
       "<matplotlib.figure.Figure at 0x1151cb6d8>"
      ]
     },
     "metadata": {},
     "output_type": "display_data"
    }
   ],
   "source": [
    "#plt.plot(range(227,300,1),ctr,'bs', range(227,300,1), spend, 'g^')\n",
    "\n",
    "\n",
    "\n",
    "fig, ax1 = plt.subplots()\n",
    "x = range(227,300,1)\n",
    "\n",
    "ax1.plot(x, ctr, 'b-')\n",
    "ax1.set_xlabel('bidding_price')\n",
    "# Make the y-axis label, ticks and tick labels match the line color.\n",
    "ax1.set_ylabel('CTR', color='b')\n",
    "ax1.tick_params('y', colors='b')\n",
    "\n",
    "ax2 = ax1.twinx()\n",
    "\n",
    "ax2.plot(x, spend, 'r.')\n",
    "ax2.set_ylabel('Spend', color='r')\n",
    "ax2.tick_params('y', colors='r')\n",
    "\n",
    "fig.tight_layout()\n",
    "plt.show()"
   ]
  },
  {
   "cell_type": "code",
   "execution_count": 109,
   "metadata": {
    "collapsed": false
   },
   "outputs": [
    {
     "data": {
      "text/plain": [
       "(array([ 28.,   9.,   8.,  17.,   0.,   0.,   0.,   0.,   0.,  11.]),\n",
       " array([ 0.00069065,  0.00073281,  0.00077497,  0.00081714,  0.0008593 ,\n",
       "         0.00090146,  0.00094362,  0.00098579,  0.00102795,  0.00107011,\n",
       "         0.00111228]),\n",
       " <a list of 10 Patch objects>)"
      ]
     },
     "execution_count": 109,
     "metadata": {},
     "output_type": "execute_result"
    },
    {
     "data": {
      "image/png": "[encoded data removed]",
      "text/plain": [
       "<matplotlib.figure.Figure at 0x13658f208>"
      ]
     },
     "metadata": {},
     "output_type": "display_data"
    }
   ],
   "source": [
    "plt.hist(ctr)"
   ]
  },
  {
   "cell_type": "markdown",
   "metadata": {},
   "source": [
    "# Random"
   ]
  },
  {
   "cell_type": "code",
   "execution_count": 11,
   "metadata": {
    "collapsed": false
   },
   "outputs": [],
   "source": [
    "import random\n",
    "\n",
    "random_list= []\n",
    "\n",
    "for i in range(0,100):\n",
    "    random_list.append([random.choice(range(227,300,1)) for _ in range(len(val))])\n",
    "  "
   ]
  },
  {
   "cell_type": "code",
   "execution_count": 12,
   "metadata": {
    "collapsed": true
   },
   "outputs": [],
   "source": [
    "output_random =[]\n",
    "for ran in random_list:\n",
    "    output_random.append(validation(ran))"
   ]
  },
  {
   "cell_type": "code",
   "execution_count": 13,
   "metadata": {
    "collapsed": false
   },
   "outputs": [],
   "source": [
    "ctr_random=[]\n",
    "spend_random=[]\n",
    "for out in output_random:\n",
    "    ctr_random.append(out[0])\n",
    "    spend_random.append(out[1])"
   ]
  },
  {
   "cell_type": "code",
   "execution_count": 14,
   "metadata": {
    "collapsed": false
   },
   "outputs": [
    {
     "data": {
      "text/plain": [
       "(array([  1.,   1.,   2.,   7.,  18.,  27.,  19.,  16.,   6.,   3.]),\n",
       " array([ 0.00062575,  0.00064979,  0.00067382,  0.00069785,  0.00072188,\n",
       "         0.00074591,  0.00076994,  0.00079397,  0.000818  ,  0.00084203,\n",
       "         0.00086606]),\n",
       " <a list of 10 Patch objects>)"
      ]
     },
     "execution_count": 14,
     "metadata": {},
     "output_type": "execute_result"
    },
    {
     "data": {
      "image/png": "[encoded data removed]",
      "text/plain": [
       "<matplotlib.figure.Figure at 0x1156b3400>"
      ]
     },
     "metadata": {},
     "output_type": "display_data"
    }
   ],
   "source": [
    "plt.hist(ctr_random)"
   ]
  },
  {
   "cell_type": "code",
   "execution_count": 15,
   "metadata": {
    "collapsed": false
   },
   "outputs": [
    {
     "data": {
      "text/plain": [
       "(array([  4.,   4.,  10.,  12.,  10.,  14.,  25.,  10.,   8.,   3.]),\n",
       " array([ 27276.267 ,  27295.7212,  27315.1754,  27334.6296,  27354.0838,\n",
       "         27373.538 ,  27392.9922,  27412.4464,  27431.9006,  27451.3548,\n",
       "         27470.809 ]),\n",
       " <a list of 10 Patch objects>)"
      ]
     },
     "execution_count": 15,
     "metadata": {},
     "output_type": "execute_result"
    },
    {
     "data": {
      "image/png": "[encoded data removed]",
      "text/plain": [
       "<matplotlib.figure.Figure at 0x10329e4a8>"
      ]
     },
     "metadata": {},
     "output_type": "display_data"
    }
   ],
   "source": [
    "plt.hist(spend_random)"
   ]
  },
  {
   "cell_type": "code",
   "execution_count": 26,
   "metadata": {
    "collapsed": true
   },
   "outputs": [],
   "source": [
    "import random\n",
    "\n",
    "random_list= []\n",
    "\n",
    "for i in range(0,100):\n",
    "    random_list.append([random.choice(range(250,270,1)) for _ in range(len(val))])\n",
    "  "
   ]
  },
  {
   "cell_type": "code",
   "execution_count": 27,
   "metadata": {
    "collapsed": true
   },
   "outputs": [],
   "source": [
    "output_random =[]\n",
    "for ran in random_list:\n",
    "    output_random.append(validation(ran))"
   ]
  },
  {
   "cell_type": "code",
   "execution_count": 28,
   "metadata": {
    "collapsed": true
   },
   "outputs": [],
   "source": [
    "ctr_random=[]\n",
    "spend_random=[]\n",
    "for out in output_random:\n",
    "    ctr_random.append(out[0])\n",
    "    spend_random.append(out[1])"
   ]
  },
  {
   "cell_type": "code",
   "execution_count": 29,
   "metadata": {
    "collapsed": false
   },
   "outputs": [
    {
     "data": {
      "text/plain": [
       "(array([  2.,   5.,   3.,  13.,   2.,  18.,   5.,  33.,   2.,  17.]),\n",
       " array([ 0.00066594,  0.00067014,  0.00067433,  0.00067853,  0.00068273,\n",
       "         0.00068692,  0.00069112,  0.00069532,  0.00069951,  0.00070371,\n",
       "         0.00070791]),\n",
       " <a list of 10 Patch objects>)"
      ]
     },
     "execution_count": 29,
     "metadata": {},
     "output_type": "execute_result"
    },
    {
     "data": {
      "image/png": "[encoded data removed]",
      "text/plain": [
       "<matplotlib.figure.Figure at 0x1091310f0>"
      ]
     },
     "metadata": {},
     "output_type": "display_data"
    }
   ],
   "source": [
    "plt.hist(ctr_random)"
   ]
  },
  {
   "cell_type": "code",
   "execution_count": 30,
   "metadata": {
    "collapsed": false
   },
   "outputs": [
    {
     "data": {
      "text/plain": [
       "(array([  2.,   4.,  12.,  13.,  22.,  13.,  13.,  12.,   6.,   3.]),\n",
       " array([ 28628.017,  28633.351,  28638.685,  28644.019,  28649.353,\n",
       "         28654.687,  28660.021,  28665.355,  28670.689,  28676.023,\n",
       "         28681.357]),\n",
       " <a list of 10 Patch objects>)"
      ]
     },
     "execution_count": 30,
     "metadata": {},
     "output_type": "execute_result"
    },
    {
     "data": {
      "image/png": "[encoded data removed]",
      "text/plain": [
       "<matplotlib.figure.Figure at 0x1091442b0>"
      ]
     },
     "metadata": {},
     "output_type": "display_data"
    }
   ],
   "source": [
    "plt.hist(spend_random)"
   ]
  }
 ],
 "metadata": {
  "anaconda-cloud": {},
  "kernelspec": {
   "display_name": "Python [default]",
   "language": "python",
   "name": "python3"
  },
  "language_info": {
   "codemirror_mode": {
    "name": "ipython",
    "version": 3
   },
   "file_extension": ".py",
   "mimetype": "text/x-python",
   "name": "python",
   "nbconvert_exporter": "python",
   "pygments_lexer": "ipython3",
   "version": "3.5.2"
  }
 },
 "nbformat": 4,
 "nbformat_minor": 1
}
